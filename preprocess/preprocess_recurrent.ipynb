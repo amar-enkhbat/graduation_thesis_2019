{
 "nbformat": 4,
 "nbformat_minor": 2,
 "metadata": {
  "language_info": {
   "name": "python",
   "codemirror_mode": {
    "name": "ipython",
    "version": 3
   },
   "version": "3.6.9"
  },
  "orig_nbformat": 2,
  "file_extension": ".py",
  "mimetype": "text/x-python",
  "name": "python",
  "npconvert_exporter": "python",
  "pygments_lexer": "ipython3",
  "version": 3
 },
 "cells": [
  {
   "cell_type": "code",
   "execution_count": 17,
   "metadata": {},
   "outputs": [],
   "source": [
    "import os\n",
    "import numpy as np\n",
    "import mne\n",
    "import pickle\n",
    "import pandas as pd"
   ]
  },
  {
   "cell_type": "code",
   "execution_count": 18,
   "metadata": {},
   "outputs": [],
   "source": [
    "dataset_dir = \"./dataset/raw_dataset/\"\n",
    "output_dir = \"./dataset/preprocessed_dataset/\"\n",
    "window_size = 10\n",
    "start_subject = 1\n",
    "end_subject = 4"
   ]
  },
  {
   "cell_type": "code",
   "execution_count": 20,
   "metadata": {},
   "outputs": [],
   "source": [
    "def data_1Dto2D(data, Y=10, X=11):\n",
    "\tdata_2D = np.zeros([Y, X])\n",
    "\t# data_2D[0] = ( \t   \t 0, \t   0,  \t   \t 0, \t   0, data[21], data[22], data[23], \t   0,  \t     0, \t   0, \t \t 0) \n",
    "\t# data_2D[1] = (\t  \t 0, \t   0,  \t   \t 0, data[24], data[25], data[26], data[27], data[28], \t   \t 0,   \t   0, \t \t 0) \n",
    "\t# data_2D[2] = (\t  \t 0, data[29], data[30], data[31], data[32], data[33], data[34], data[35], data[36], data[37], \t \t 0) \n",
    "\t# data_2D[3] = (\t  \t 0, data[38],  data[0],  data[1],  data[2],  data[3],  data[4],  data[5],  data[6], data[39], \t\t 0) \n",
    "\t# data_2D[4] = (data[42], data[40],  data[7],  data[8],  data[9], data[10], data[11], data[12], data[13], data[41], data[43]) \n",
    "\t# data_2D[5] = (\t  \t 0, data[44], data[14], data[15], data[16], data[17], data[18], data[19], data[20], data[45], \t\t 0) \n",
    "\t# data_2D[6] = (\t  \t 0, data[46], data[47], data[48], data[49], data[50], data[51], data[52], data[53], data[54], \t\t 0) \n",
    "\t# data_2D[7] = (\t  \t 0, \t   0, \t \t 0, data[55], data[56], data[57], data[58], data[59], \t   \t 0, \t   0, \t\t 0) \n",
    "\t# data_2D[8] = (\t  \t 0, \t   0, \t \t 0, \t   0, data[60], data[61], data[62], \t   0, \t   \t 0, \t   0, \t\t 0) \n",
    "\t# data_2D[9] = (\t  \t 0, \t   0, \t \t 0, \t   0, \t     0, data[63], \t\t 0, \t   0, \t   \t 0, \t   0, \t\t 0) \n",
    "\tdata_2D[0] = ( \t   \t 0, \t   0,  \t   \t 0, \t   0,        0,        0,        0, \t   0,  \t     0, \t   0, \t \t 0) \n",
    "\tdata_2D[1] = (\t  \t 0, \t   0,  \t   \t 0, data[24],        0,        0,        0, data[28], \t   \t 0,   \t   0, \t \t 0) \n",
    "\tdata_2D[2] = (\t  \t 0,        0,        0,        0,        0,        0,        0,        0,        0,        0, \t \t 0) \n",
    "\tdata_2D[3] = (\t  \t 0,        0,        0,        0,        0,        0,        0,        0,        0,        0, \t\t 0) \n",
    "\tdata_2D[4] = (       0,        0,        0,        0,        0,        0,        0,        0,        0,        0,        0) \n",
    "\tdata_2D[5] = (\t  \t 0, data[44],        0,        0,        0,        0,        0,        0,        0, data[45], \t\t 0) \n",
    "\tdata_2D[6] = (\t  \t 0,        0,        0,        0,        0,        0,        0,        0,        0,        0, \t\t 0) \n",
    "\tdata_2D[7] = (\t  \t 0, \t   0, \t \t 0,        0,        0,        0,        0,        0, \t   \t 0, \t   0, \t\t 0) \n",
    "\tdata_2D[8] = (\t  \t 0, \t   0, \t \t 0, \t   0,        0,        0,        0, \t   0, \t   \t 0, \t   0, \t\t 0) \n",
    "\tdata_2D[9] = (\t  \t 0, \t   0, \t \t 0, \t   0, \t     0,        0, \t\t 0, \t   0, \t   \t 0, \t   0, \t\t 0) \n",
    "\treturn data_2D"
   ]
  },
  {
   "cell_type": "code",
   "execution_count": 21,
   "metadata": {},
   "outputs": [],
   "source": [
    "def windows(data, size):\n",
    "\tstart = 0\n",
    "\twhile ((start+size) < data.shape[0]):\n",
    "\t\tyield int(start), int(start + size)\n",
    "\t\tstart += (size/2)\n",
    "\n",
    "def segment_signal_without_transition(data, label, window_size):\n",
    "\tfor (start, end) in windows(data, window_size):\n",
    "\t\tif((len(data[start:end]) == window_size) and (len(set(label[start:end]))==1)):\n",
    "\t\t\tif(start == 0):\n",
    "\t\t\t\tsegments = data[start:end]\n",
    "\t\t\t\t# labels = stats.mode(label[start:end])[0][0]\n",
    "\t\t\t\tlabels = np.array(list(set(label[start:end])))\n",
    "\t\t\telse:\n",
    "\t\t\t\tsegments = np.vstack([segments, data[start:end]])\n",
    "\t\t\t\tlabels = np.append(labels, np.array(list(set(label[start:end]))))\n",
    "\t\t\t\t# labels = np.append(labels, stats.mode(label[start:end])[0][0])\n",
    "\treturn segments, labels"
   ]
  },
  {
   "cell_type": "code",
   "execution_count": 19,
   "metadata": {},
   "outputs": [
    {
     "name": "stdout",
     "output_type": "stream",
     "text": "['S001R06', 'S001R02', 'S001R12', 'S001R11', 'S001R05', 'S001R10', 'S001R13', 'S001R07', 'S001R04', 'S001R08', 'S001R14', 'S001R01', 'S001R09', 'S001R03']\n1\nS001R06 begin:\n/home/amar/.local/lib/python3.6/site-packages/ipykernel_launcher.py:19: FutureWarning: Method .as_matrix will be removed in a future version. Use .values instead.\nS001R04 begin:\n['S002R04', 'S002R08', 'S002R07', 'S002R06', 'S002R14', 'S002R03', 'S002R13', 'S002R02', 'S002R09', 'S002R01', 'S002R12', 'S002R05', 'S002R10', 'S002R11']\n2\nS002R04 begin:\nS002R06 begin:\n['S003R05', 'S003R04', 'S003R07', 'S003R12', 'S003R01', 'S003R13', 'S003R09', 'S003R03', 'S003R02', 'S003R08', 'S003R11', 'S003R10', 'S003R14', 'S003R06']\n3\nS003R04 begin:\nS003R06 begin:\n"
    }
   ],
   "source": [
    "for i in range(start_subject, end_subject):\n",
    "    if i == 89:\n",
    "        continue\n",
    "    data_dir = dataset_dir + \"S\" + format(i, \"03d\")\n",
    "    task_list = [task for task in os.listdir(data_dir) if os.path.isdir(os.path.join(data_dir, task))]\n",
    "    print(task_list)\n",
    "    print(i)\n",
    "    for task in task_list:\n",
    "        if (\"RO2\" in task) or (\"R04\" in task) or (\"R06\" in task):\n",
    "            print(task + \" begin:\")\n",
    "            data_file \t= data_dir+\"/\"+task+\"/\"+task+\".csv\"\n",
    "            label_file \t= data_dir+\"/\"+task+\"/\"+task+\".label.csv\"\n",
    "            data\t\t= pd.read_csv(data_file)\n",
    "            label\t\t= pd.read_csv(label_file)\n",
    "            data_label\t= pd.concat([data, label], axis=1)\n",
    "            data_label\t= data_label.loc[data_label['labels']!= 'rest']\n",
    "            label\t\t= data_label['labels']\n",
    "            data_label.drop('labels', axis=1, inplace=True)\n",
    "            data\t\t= data_label.as_matrix()"
   ]
  },
  {
   "cell_type": "code",
   "execution_count": null,
   "metadata": {},
   "outputs": [],
   "source": []
  }
 ]
}