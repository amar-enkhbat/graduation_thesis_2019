{
 "nbformat": 4,
 "nbformat_minor": 2,
 "metadata": {
  "language_info": {
   "name": "python",
   "codemirror_mode": {
    "name": "ipython",
    "version": 3
   },
   "version": "3.6.9"
  },
  "orig_nbformat": 2,
  "file_extension": ".py",
  "mimetype": "text/x-python",
  "name": "python",
  "npconvert_exporter": "python",
  "pygments_lexer": "ipython3",
  "version": 3
 },
 "cells": [
  {
   "cell_type": "code",
   "execution_count": 6,
   "metadata": {},
   "outputs": [],
   "source": [
    "import warnings\n",
    "warnings.simplefilter(action='ignore', category=FutureWarning)\n",
    "\n",
    "import sklearn\n",
    "import os\n",
    "import pandas as pd\n",
    "import pickle\n",
    "import tensorflow as tf\n",
    "import numpy as np\n",
    "import time"
   ]
  },
  {
   "cell_type": "code",
   "execution_count": 7,
   "metadata": {},
   "outputs": [],
   "source": [
    "random_state = 33\n",
    "np.random.seed(random_state)"
   ]
  },
  {
   "cell_type": "code",
   "execution_count": 8,
   "metadata": {},
   "outputs": [],
   "source": [
    "dataset_dir = \"./dataset/preprocessed_dataset/\""
   ]
  },
  {
   "cell_type": "code",
   "execution_count": 11,
   "metadata": {},
   "outputs": [
    {
     "data": {
      "text/plain": "(17563, 10, 1, 4)"
     },
     "execution_count": 11,
     "metadata": {},
     "output_type": "execute_result"
    }
   ],
   "source": [
    "dataset.shape"
   ]
  },
  {
   "cell_type": "code",
   "execution_count": 12,
   "metadata": {},
   "outputs": [
    {
     "name": "stdout",
     "output_type": "stream",
     "text": "Dataset shape: (17563, 10, 1, 4, 1)\nLabels shape: (17563,)\n"
    }
   ],
   "source": [
    "with open(dataset_dir+\"3_5_shuffle_dataset_3D_win_10.pkl\", \"rb\") as fp:\n",
    "    dataset = pickle.load(fp)\n",
    "with open(dataset_dir+\"3_5_shuffle_labels_3D_win_10.pkl\", \"rb\") as fp:\n",
    "    labels = pickle.load(fp)\n",
    "\n",
    "dataset = dataset.reshape(-1, 10, 1, 4, 1)\n",
    "print(\"Dataset shape:\", dataset.shape)\n",
    "print(\"Labels shape:\", labels.shape)"
   ]
  },
  {
   "cell_type": "code",
   "execution_count": 14,
   "metadata": {},
   "outputs": [
    {
     "name": "stdout",
     "output_type": "stream",
     "text": "Train dataset shape: (13172, 10, 1, 4, 1)\nTrain label shape: (13172,)\nTest dataset shape: (4391, 10, 1, 4, 1)\nTest label shape: (4391,)\n[[ -8.  -7.  -7. -21.]]\n[[ 31. -36. -50. -31.]]\n"
    }
   ],
   "source": [
    "from sklearn.model_selection import train_test_split\n",
    "X_train, X_valid, y_train, y_valid = train_test_split(dataset, labels, test_size=0.25, random_state=random_state, shuffle=True)\n",
    "print(\"Train dataset shape:\", X_train.shape)\n",
    "print(\"Train label shape:\", y_train.shape)\n",
    "print(\"Test dataset shape:\", X_valid.shape)\n",
    "print(\"Test label shape:\", y_valid.shape)\n",
    "\n",
    "print(X_train[0, 2].reshape(1, 4))\n",
    "print(X_valid[0, 2].reshape(1, 4))"
   ]
  },
  {
   "cell_type": "code",
   "execution_count": null,
   "metadata": {},
   "outputs": [],
   "source": []
  },
  {
   "cell_type": "code",
   "execution_count": null,
   "metadata": {},
   "outputs": [],
   "source": []
  }
 ]
}