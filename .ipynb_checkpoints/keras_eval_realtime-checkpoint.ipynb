{
 "cells": [
  {
   "cell_type": "markdown",
   "metadata": {},
   "source": [
    "# モジュールをインポート"
   ]
  },
  {
   "cell_type": "code",
   "execution_count": 1,
   "metadata": {},
   "outputs": [],
   "source": [
    "import numpy as np\n",
    "import matplotlib.pyplot as plt\n",
    "import pickle\n",
    "import pandas as pd"
   ]
  },
  {
   "cell_type": "markdown",
   "metadata": {},
   "source": [
    "# 学習歴史を読み込み"
   ]
  },
  {
   "cell_type": "code",
   "execution_count": 2,
   "metadata": {},
   "outputs": [],
   "source": [
    "with open(\"./training_keras_hist_2019_11_21/train_hist\", \"rb\") as file:\n",
    "    history = pickle.load(file)"
   ]
  },
  {
   "cell_type": "code",
   "execution_count": 3,
   "metadata": {},
   "outputs": [
    {
     "data": {
      "text/plain": [
       "dict_keys(['val_acc', 'acc', 'loss', 'val_loss'])"
      ]
     },
     "execution_count": 3,
     "metadata": {},
     "output_type": "execute_result"
    }
   ],
   "source": [
    "history.keys()"
   ]
  },
  {
   "cell_type": "markdown",
   "metadata": {},
   "source": [
    "# 学習正解率を描画"
   ]
  },
  {
   "cell_type": "code",
   "execution_count": 4,
   "metadata": {},
   "outputs": [
    {
     "data": {
      "image/png": "[encoded data removed]",
      "text/plain": [
       "<Figure size 432x288 with 1 Axes>"
      ]
     },
     "metadata": {
      "needs_background": "light"
     },
     "output_type": "display_data"
    }
   ],
   "source": [
    "plt.plot(history['acc'])\n",
    "plt.plot(history['val_acc'])\n",
    "plt.title('model accuracy')\n",
    "plt.ylabel('accuracy')\n",
    "plt.xlabel('epoch')\n",
    "plt.legend(['train', 'test'], loc='upper left')\n",
    "plt.grid()\n",
    "plt.show()"
   ]
  },
  {
   "cell_type": "markdown",
   "metadata": {},
   "source": [
    "# 学習損失を描画"
   ]
  },
  {
   "cell_type": "code",
   "execution_count": 5,
   "metadata": {},
   "outputs": [
    {
     "data": {
      "image/png": "[encoded data removed]",
      "text/plain": [
       "<Figure size 432x288 with 1 Axes>"
      ]
     },
     "metadata": {
      "needs_background": "light"
     },
     "output_type": "display_data"
    }
   ],
   "source": [
    "plt.plot(history['loss'])\n",
    "plt.plot(history['val_loss'])\n",
    "plt.title('model loss')\n",
    "plt.ylabel('loss')\n",
    "plt.xlabel('epoch')\n",
    "plt.legend(['train', 'test'], loc='upper left')\n",
    "plt.show()"
   ]
  },
  {
   "cell_type": "markdown",
   "metadata": {},
   "source": [
    "# テストデータセットを読み込み"
   ]
  },
  {
   "cell_type": "code",
   "execution_count": 6,
   "metadata": {},
   "outputs": [
    {
     "name": "stdout",
     "output_type": "stream",
     "text": [
      "Dataset shape: (11717, 10, 10, 11, 1)\n",
      "Labels shape: (11717,)\n"
     ]
    }
   ],
   "source": [
    "dataset_dir = \"./preprocessed_dataset/\"\n",
    "\n",
    "with open(dataset_dir+\"1_2_shuffle_dataset_3D_win_10.pkl\", \"rb\") as fp:\n",
    "  \tdataset = pickle.load(fp)\n",
    "with open(dataset_dir+\"1_2_shuffle_labels_3D_win_10.pkl\", \"rb\") as fp:\n",
    "  \tlabels = pickle.load(fp)\n",
    "dataset = dataset.reshape(len(dataset), 10, 10, 11, 1)\n",
    "print(\"Dataset shape:\", dataset.shape)\n",
    "print(\"Labels shape:\", labels.shape)"
   ]
  },
  {
   "cell_type": "markdown",
   "metadata": {},
   "source": [
    "# ラベルエンコーディング"
   ]
  },
  {
   "cell_type": "code",
   "execution_count": 7,
   "metadata": {},
   "outputs": [
    {
     "name": "stdout",
     "output_type": "stream",
     "text": [
      "One-hot-encoded labels:\n",
      "[[1 0 0 0 0]\n",
      " [1 0 0 0 0]\n",
      " [1 0 0 0 0]\n",
      " ...\n",
      " [0 0 1 0 0]\n",
      " [0 0 1 0 0]\n",
      " [0 0 1 0 0]]\n"
     ]
    }
   ],
   "source": [
    "def one_hot_encoder(labels):\n",
    "    return np.asarray(pd.get_dummies(labels), dtype = np.int8)\n",
    "labels = one_hot_encoder(labels)\n",
    "print(\"One-hot-encoded labels:\")\n",
    "print(labels)"
   ]
  },
  {
   "cell_type": "code",
   "execution_count": 8,
   "metadata": {},
   "outputs": [
    {
     "name": "stdout",
     "output_type": "stream",
     "text": [
      "Test dataset shape: (11717, 10, 10, 11, 1)\n",
      "Test label shape: (11717, 5)\n"
     ]
    }
   ],
   "source": [
    "X_test = dataset \n",
    "y_test = labels\n",
    "\n",
    "print(\"Test dataset shape:\", X_test.shape)\n",
    "print(\"Test label shape:\", y_test.shape)"
   ]
  },
  {
   "cell_type": "markdown",
   "metadata": {},
   "source": [
    "# モデルを定義"
   ]
  },
  {
   "cell_type": "code",
   "execution_count": 9,
   "metadata": {},
   "outputs": [
    {
     "name": "stderr",
     "output_type": "stream",
     "text": [
      "/usr/local/lib/python3.6/dist-packages/tensorflow/python/framework/dtypes.py:516: FutureWarning: Passing (type, 1) or '1type' as a synonym of type is deprecated; in a future version of numpy, it will be understood as (type, (1,)) / '(1,)type'.\n",
      "  _np_qint8 = np.dtype([(\"qint8\", np.int8, 1)])\n",
      "/usr/local/lib/python3.6/dist-packages/tensorflow/python/framework/dtypes.py:517: FutureWarning: Passing (type, 1) or '1type' as a synonym of type is deprecated; in a future version of numpy, it will be understood as (type, (1,)) / '(1,)type'.\n",
      "  _np_quint8 = np.dtype([(\"quint8\", np.uint8, 1)])\n",
      "/usr/local/lib/python3.6/dist-packages/tensorflow/python/framework/dtypes.py:518: FutureWarning: Passing (type, 1) or '1type' as a synonym of type is deprecated; in a future version of numpy, it will be understood as (type, (1,)) / '(1,)type'.\n",
      "  _np_qint16 = np.dtype([(\"qint16\", np.int16, 1)])\n",
      "/usr/local/lib/python3.6/dist-packages/tensorflow/python/framework/dtypes.py:519: FutureWarning: Passing (type, 1) or '1type' as a synonym of type is deprecated; in a future version of numpy, it will be understood as (type, (1,)) / '(1,)type'.\n",
      "  _np_quint16 = np.dtype([(\"quint16\", np.uint16, 1)])\n",
      "/usr/local/lib/python3.6/dist-packages/tensorflow/python/framework/dtypes.py:520: FutureWarning: Passing (type, 1) or '1type' as a synonym of type is deprecated; in a future version of numpy, it will be understood as (type, (1,)) / '(1,)type'.\n",
      "  _np_qint32 = np.dtype([(\"qint32\", np.int32, 1)])\n",
      "/usr/local/lib/python3.6/dist-packages/tensorflow/python/framework/dtypes.py:525: FutureWarning: Passing (type, 1) or '1type' as a synonym of type is deprecated; in a future version of numpy, it will be understood as (type, (1,)) / '(1,)type'.\n",
      "  np_resource = np.dtype([(\"resource\", np.ubyte, 1)])\n",
      "/usr/local/lib/python3.6/dist-packages/tensorboard/compat/tensorflow_stub/dtypes.py:541: FutureWarning: Passing (type, 1) or '1type' as a synonym of type is deprecated; in a future version of numpy, it will be understood as (type, (1,)) / '(1,)type'.\n",
      "  _np_qint8 = np.dtype([(\"qint8\", np.int8, 1)])\n",
      "/usr/local/lib/python3.6/dist-packages/tensorboard/compat/tensorflow_stub/dtypes.py:542: FutureWarning: Passing (type, 1) or '1type' as a synonym of type is deprecated; in a future version of numpy, it will be understood as (type, (1,)) / '(1,)type'.\n",
      "  _np_quint8 = np.dtype([(\"quint8\", np.uint8, 1)])\n",
      "/usr/local/lib/python3.6/dist-packages/tensorboard/compat/tensorflow_stub/dtypes.py:543: FutureWarning: Passing (type, 1) or '1type' as a synonym of type is deprecated; in a future version of numpy, it will be understood as (type, (1,)) / '(1,)type'.\n",
      "  _np_qint16 = np.dtype([(\"qint16\", np.int16, 1)])\n",
      "/usr/local/lib/python3.6/dist-packages/tensorboard/compat/tensorflow_stub/dtypes.py:544: FutureWarning: Passing (type, 1) or '1type' as a synonym of type is deprecated; in a future version of numpy, it will be understood as (type, (1,)) / '(1,)type'.\n",
      "  _np_quint16 = np.dtype([(\"quint16\", np.uint16, 1)])\n",
      "/usr/local/lib/python3.6/dist-packages/tensorboard/compat/tensorflow_stub/dtypes.py:545: FutureWarning: Passing (type, 1) or '1type' as a synonym of type is deprecated; in a future version of numpy, it will be understood as (type, (1,)) / '(1,)type'.\n",
      "  _np_qint32 = np.dtype([(\"qint32\", np.int32, 1)])\n",
      "/usr/local/lib/python3.6/dist-packages/tensorboard/compat/tensorflow_stub/dtypes.py:550: FutureWarning: Passing (type, 1) or '1type' as a synonym of type is deprecated; in a future version of numpy, it will be understood as (type, (1,)) / '(1,)type'.\n",
      "  np_resource = np.dtype([(\"resource\", np.ubyte, 1)])\n"
     ]
    }
   ],
   "source": [
    "dropout_prob = 0.5\n",
    "n_labels = y_test.shape[1]\n",
    "training_epochs = 10\n",
    "batch_size = 300\n",
    "learning_rate = 1e-4\n",
    "\n",
    "from tensorflow.keras.models import Model\n",
    "from tensorflow.keras.layers import Dense, Activation, Dropout, Input, LSTM, Conv2D, Conv3D\n",
    "from tensorflow.keras.layers import Reshape, Flatten, Softmax\n",
    "from tensorflow.keras.optimizers import Adam\n",
    "\n",
    "def model(input_shape):\n",
    "    \"\"\"\n",
    "    Function creating the model's graph in Keras.\n",
    "    \n",
    "    Argument:\n",
    "    input_shape -- shape of the model's input data (using Keras conventions)\n",
    "\n",
    "    Returns:\n",
    "    model -- Keras model instance\n",
    "    \"\"\"\n",
    "    X_input = Input(shape = input_shape)\n",
    "\n",
    "    conv_1 = Conv3D(filters=32, kernel_size=(3, 3, 3), padding=\"same\", strides=(1, 1, 1), activation=\"elu\")(X_input)\n",
    "    conv_2 = Conv3D(filters=64, kernel_size=(3, 3, 3), padding=\"same\", strides=(1, 1, 1), activation=\"elu\")(conv_1)\n",
    "    conv_3 = Conv3D(filters=128, kernel_size=(3, 3, 3), padding=\"same\", strides=(1, 1, 1), activation=\"elu\")(conv_2)\n",
    "    shape = conv_3.get_shape().as_list()\n",
    "    \n",
    "    pool_2_flat = Reshape([shape[1], shape[2]*shape[3]*shape[4]])(conv_3)\n",
    "    fc = Dense(1024, activation=\"elu\")(pool_2_flat)\n",
    "    fc_drop = Dropout(dropout_prob)(fc)\n",
    "    \n",
    "    lstm_in = Reshape([10, 1024])(fc_drop)\n",
    "    lstm_1 = LSTM(units=1024, return_sequences=True, unit_forget_bias=True, dropout=dropout_prob)(lstm_in)\n",
    "    rnn_output = LSTM(units=1024, return_sequences=False, unit_forget_bias=True)(lstm_1)\n",
    "    \n",
    "    shape_rnn_out = rnn_output.get_shape().as_list()\n",
    "    fc_out = Dense(shape_rnn_out[1], activation=\"elu\")(rnn_output)\n",
    "    fc_drop = Dropout(dropout_prob)(fc_out)\n",
    "    y_ = Dense(n_labels)(fc_drop)\n",
    "    y_posi = Softmax()(y_)\n",
    "#     X = Argmax()(X)\n",
    "#     X = argmax()(X)\n",
    "#     X = Dense(5, activation=\"elu\")(X)\n",
    "    \n",
    "    \n",
    "    model = Model(inputs = X_input, outputs = y_posi)\n",
    "    return model"
   ]
  },
  {
   "cell_type": "code",
   "execution_count": 10,
   "metadata": {},
   "outputs": [
    {
     "name": "stdout",
     "output_type": "stream",
     "text": [
      "WARNING:tensorflow:From /usr/local/lib/python3.6/dist-packages/tensorflow/python/ops/init_ops.py:1251: calling VarianceScaling.__init__ (from tensorflow.python.ops.init_ops) with dtype is deprecated and will be removed in a future version.\n",
      "Instructions for updating:\n",
      "Call initializer instance with the dtype argument instead of passing it to the constructor\n"
     ]
    }
   ],
   "source": [
    "model = model(input_shape = (X_test.shape[1], X_test.shape[2], X_test.shape[3], X_test.shape[4]))"
   ]
  },
  {
   "cell_type": "markdown",
   "metadata": {},
   "source": [
    "# モデルの確認"
   ]
  },
  {
   "cell_type": "code",
   "execution_count": 11,
   "metadata": {},
   "outputs": [
    {
     "name": "stdout",
     "output_type": "stream",
     "text": [
      "Model: \"model\"\n",
      "_________________________________________________________________\n",
      "Layer (type)                 Output Shape              Param #   \n",
      "=================================================================\n",
      "input_1 (InputLayer)         [(None, 10, 10, 11, 1)]   0         \n",
      "_________________________________________________________________\n",
      "conv3d (Conv3D)              (None, 10, 10, 11, 32)    896       \n",
      "_________________________________________________________________\n",
      "conv3d_1 (Conv3D)            (None, 10, 10, 11, 64)    55360     \n",
      "_________________________________________________________________\n",
      "conv3d_2 (Conv3D)            (None, 10, 10, 11, 128)   221312    \n",
      "_________________________________________________________________\n",
      "reshape (Reshape)            (None, 10, 14080)         0         \n",
      "_________________________________________________________________\n",
      "dense (Dense)                (None, 10, 1024)          14418944  \n",
      "_________________________________________________________________\n",
      "dropout (Dropout)            (None, 10, 1024)          0         \n",
      "_________________________________________________________________\n",
      "reshape_1 (Reshape)          (None, 10, 1024)          0         \n",
      "_________________________________________________________________\n",
      "lstm (LSTM)                  (None, 10, 1024)          8392704   \n",
      "_________________________________________________________________\n",
      "lstm_1 (LSTM)                (None, 1024)              8392704   \n",
      "_________________________________________________________________\n",
      "dense_1 (Dense)              (None, 1024)              1049600   \n",
      "_________________________________________________________________\n",
      "dropout_1 (Dropout)          (None, 1024)              0         \n",
      "_________________________________________________________________\n",
      "dense_2 (Dense)              (None, 5)                 5125      \n",
      "_________________________________________________________________\n",
      "softmax (Softmax)            (None, 5)                 0         \n",
      "=================================================================\n",
      "Total params: 32,536,645\n",
      "Trainable params: 32,536,645\n",
      "Non-trainable params: 0\n",
      "_________________________________________________________________\n"
     ]
    }
   ],
   "source": [
    "model.summary()"
   ]
  },
  {
   "cell_type": "code",
   "execution_count": 12,
   "metadata": {},
   "outputs": [],
   "source": [
    "opt = Adam(lr=learning_rate)\n",
    "model.compile(loss=\"categorical_crossentropy\", optimizer=opt, metrics=[\"accuracy\"])"
   ]
  },
  {
   "cell_type": "markdown",
   "metadata": {},
   "source": [
    "## 学習済みモデルの重みを読み込み"
   ]
  },
  {
   "cell_type": "code",
   "execution_count": 13,
   "metadata": {},
   "outputs": [
    {
     "data": {
      "text/plain": [
       "<tensorflow.python.training.tracking.util.CheckpointLoadStatus at 0x7f5db0bc2080>"
      ]
     },
     "execution_count": 13,
     "metadata": {},
     "output_type": "execute_result"
    }
   ],
   "source": [
    "checkpoint_path = \"training_keras_2019_11_21/cp.ckpt\"\n",
    "model.load_weights(checkpoint_path)"
   ]
  },
  {
   "cell_type": "markdown",
   "metadata": {},
   "source": [
    "# Load data stream"
   ]
  },
  {
   "cell_type": "code",
   "execution_count": 17,
   "metadata": {},
   "outputs": [],
   "source": [
    "from pylsl import StreamInlet, resolve_byprop\n",
    "from muselsl.constants import LSL_SCAN_TIMEOUT, LSL_EEG_CHUNK\n",
    "\n",
    "LSL_EEG_CHUNK = 10\n",
    "def record_stream():\n",
    "    \"\"\"\n",
    "    :return: a generator to fetch EEG data from existed stream.\n",
    "    \"\"\"\n",
    "    streams = resolve_byprop(\"type\", \"EEG\", timeout=LSL_SCAN_TIMEOUT)\n",
    "    if len(streams) == 0:\n",
    "        raise IOError(\"Can't find EEG stream.\")\n",
    "\n",
    "    inlet = StreamInlet(streams[0], max_buflen=LSL_EEG_CHUNK)\n",
    "\n",
    "    info = inlet.info()\n",
    "    description = info.desc()\n",
    "    Nchan = info.channel_count()\n",
    "\n",
    "    ch = description.child('channels').first_child()\n",
    "    ch_names = [ch.child_value(\"label\")]\n",
    "    for i in range(1, Nchan):\n",
    "        ch = ch.next_sibling()\n",
    "        ch_names.append(ch.child_value('label'))\n",
    "#     print(ch_names)\n",
    "    while True:\n",
    "        yield inlet.pull_chunk(timeout=1.0, max_samples=LSL_EEG_CHUNK)\n"
   ]
  },
  {
   "cell_type": "code",
   "execution_count": 21,
   "metadata": {},
   "outputs": [
    {
     "name": "stdout",
     "output_type": "stream",
     "text": [
      "['TP9', 'AF7', 'AF8', 'TP10', 'Right AUX']\n",
      "[[  171.875       -398.92578125  -316.40625       17.578125  ]\n",
      " [  625.9765625  -1000.         -1000.          -943.359375  ]\n",
      " [ -883.30078125  -400.87890625  -406.25         437.98828125]\n",
      " [-1000.           322.265625     230.46875     -726.5625    ]\n",
      " [ -138.671875    -220.21484375  -194.3359375    260.25390625]\n",
      " [ -921.38671875 -1000.         -1000.         -1000.        ]\n",
      " [ -197.75390625  -633.7890625   -596.19140625   -77.63671875]\n",
      " [-1000.           235.83984375   154.296875    -759.765625  ]\n",
      " [ -438.96484375    10.25390625   -11.71875      620.60546875]\n",
      " [ -914.0625      -919.921875    -850.09765625  -958.49609375]]\n"
     ]
    }
   ],
   "source": [
    "print(\"['TP9', 'AF7', 'AF8', 'TP10', 'Right AUX']\")\n",
    "print(np.array(next(record_stream())[0])[:, 0:4])"
   ]
  },
  {
   "cell_type": "markdown",
   "metadata": {},
   "source": [
    "# Preprocessing"
   ]
  },
  {
   "cell_type": "code",
   "execution_count": 29,
   "metadata": {},
   "outputs": [],
   "source": [
    "def data_1Dto2D(data, Y=10, X=11):\n",
    "\tdata_2D = np.zeros([Y, X])\n",
    "    data_2D[1, 3] = data[1]\n",
    "    data_2D[1, 7] = data[2]\n",
    "    data_2D[5, 1] = data[0]\n",
    "    data_2D[5, 8] = data[3]\n",
    "\tdata_2D[0] = ( \t   \t 0, \t   0,  \t   \t 0, \t   0,        0,        0,        0, \t   0,  \t     0, \t   0, \t \t 0) \n",
    "\tdata_2D[1] = (\t  \t 0, \t   0,  \t   \t 0, data[1],        0,        0,        0, data[2], \t   \t 0,   \t   0, \t \t 0) \n",
    "\tdata_2D[2] = (\t  \t 0,        0,        0,        0,        0,        0,        0,        0,        0,        0, \t \t 0) \n",
    "\tdata_2D[3] = (\t  \t 0,        0,        0,        0,        0,        0,        0,        0,        0,        0, \t\t 0) \n",
    "\tdata_2D[4] = (       0,        0,        0,        0,        0,        0,        0,        0,        0,        0,        0) \n",
    "\tdata_2D[5] = (\t  \t 0, data[0],        0,        0,        0,        0,        0,        0,        0, data[3], \t\t 0) \n",
    "\tdata_2D[6] = (\t  \t 0,        0,        0,        0,        0,        0,        0,        0,        0,        0, \t\t 0) \n",
    "\tdata_2D[7] = (\t  \t 0, \t   0, \t \t 0,        0,        0,        0,        0,        0, \t   \t 0, \t   0, \t\t 0) \n",
    "\tdata_2D[8] = (\t  \t 0, \t   0, \t \t 0, \t   0,        0,        0,        0, \t   0, \t   \t 0, \t   0, \t\t 0) \n",
    "\tdata_2D[9] = (\t  \t 0, \t   0, \t \t 0, \t   0, \t     0,        0, \t\t 0, \t   0, \t   \t 0, \t   0, \t\t 0) \n",
    "\treturn data_2D"
   ]
  },
  {
   "cell_type": "code",
   "execution_count": 31,
   "metadata": {},
   "outputs": [
    {
     "data": {
      "text/plain": [
       "array([[    0.      ,     0.      ,     0.      ,     0.      ,\n",
       "            0.      ,     0.      ,     0.      ,     0.      ,\n",
       "            0.      ,     0.      ,     0.      ],\n",
       "       [    0.      ,     0.      ,     0.      , -1000.      ,\n",
       "            0.      ,     0.      ,     0.      , -1000.      ,\n",
       "            0.      ,     0.      ,     0.      ],\n",
       "       [    0.      ,     0.      ,     0.      ,     0.      ,\n",
       "            0.      ,     0.      ,     0.      ,     0.      ,\n",
       "            0.      ,     0.      ,     0.      ],\n",
       "       [    0.      ,     0.      ,     0.      ,     0.      ,\n",
       "            0.      ,     0.      ,     0.      ,     0.      ,\n",
       "            0.      ,     0.      ,     0.      ],\n",
       "       [    0.      ,     0.      ,     0.      ,     0.      ,\n",
       "            0.      ,     0.      ,     0.      ,     0.      ,\n",
       "            0.      ,     0.      ,     0.      ],\n",
       "       [    0.      ,   990.234375,     0.      ,     0.      ,\n",
       "            0.      ,     0.      ,     0.      ,     0.      ,\n",
       "            0.      , -1000.      ,     0.      ],\n",
       "       [    0.      ,     0.      ,     0.      ,     0.      ,\n",
       "            0.      ,     0.      ,     0.      ,     0.      ,\n",
       "            0.      ,     0.      ,     0.      ],\n",
       "       [    0.      ,     0.      ,     0.      ,     0.      ,\n",
       "            0.      ,     0.      ,     0.      ,     0.      ,\n",
       "            0.      ,     0.      ,     0.      ],\n",
       "       [    0.      ,     0.      ,     0.      ,     0.      ,\n",
       "            0.      ,     0.      ,     0.      ,     0.      ,\n",
       "            0.      ,     0.      ,     0.      ],\n",
       "       [    0.      ,     0.      ,     0.      ,     0.      ,\n",
       "            0.      ,     0.      ,     0.      ,     0.      ,\n",
       "            0.      ,     0.      ,     0.      ]])"
      ]
     },
     "execution_count": 31,
     "metadata": {},
     "output_type": "execute_result"
    }
   ],
   "source": []
  },
  {
   "cell_type": "markdown",
   "metadata": {},
   "source": [
    "# テストデータを分類"
   ]
  },
  {
   "cell_type": "code",
   "execution_count": 14,
   "metadata": {},
   "outputs": [
    {
     "name": "stdout",
     "output_type": "stream",
     "text": [
      "11717/11717 [==============================] - 10s 857us/sample\n"
     ]
    }
   ],
   "source": [
    "y_pred = model.predict(X_test, batch_size=batch_size, verbose=1)\n",
    "y_pred_bool = np.argmax(y_pred, axis=1)"
   ]
  },
  {
   "cell_type": "code",
   "execution_count": 15,
   "metadata": {},
   "outputs": [
    {
     "name": "stdout",
     "output_type": "stream",
     "text": [
      "サンプリング率: 160\n",
      "1秒に処理できる信号数： 9894\n"
     ]
    }
   ],
   "source": [
    "print(\"サンプリング率:\", 160)\n",
    "print(\"1秒に処理できる信号数：\", 990*10-6)"
   ]
  },
  {
   "cell_type": "code",
   "execution_count": 16,
   "metadata": {},
   "outputs": [
    {
     "data": {
      "text/plain": [
       "array([[1, 0, 0, 0, 0],\n",
       "       [1, 0, 0, 0, 0],\n",
       "       [1, 0, 0, 0, 0],\n",
       "       ...,\n",
       "       [0, 0, 1, 0, 0],\n",
       "       [0, 0, 1, 0, 0],\n",
       "       [0, 0, 1, 0, 0]], dtype=int8)"
      ]
     },
     "execution_count": 16,
     "metadata": {},
     "output_type": "execute_result"
    }
   ],
   "source": [
    "y_pred_bool = one_hot_encoder(y_pred_bool)\n",
    "y_pred_bool"
   ]
  },
  {
   "cell_type": "markdown",
   "metadata": {},
   "source": [
    "# 精度と正解率の曲線"
   ]
  },
  {
   "cell_type": "code",
   "execution_count": 17,
   "metadata": {},
   "outputs": [
    {
     "data": {
      "image/png": "[encoded data removed]",
      "text/plain": [
       "<Figure size 432x288 with 1 Axes>"
      ]
     },
     "metadata": {
      "needs_background": "light"
     },
     "output_type": "display_data"
    }
   ],
   "source": [
    "from sklearn.metrics import precision_recall_curve, roc_curve\n",
    "from sklearn.preprocessing import label_binarize\n",
    "\n",
    "precision = dict()\n",
    "recall = dict()\n",
    "for i in range(5):\n",
    "    precision[i], recall[i], _ = precision_recall_curve(y_test[:, i],\n",
    "                                                        y_pred_bool[:, i])\n",
    "    plt.plot(recall[i], precision[i], lw=2, label='class {}'.format(i))\n",
    "\n",
    "plt.xlabel(\"recall\")\n",
    "plt.ylabel(\"precision\")\n",
    "plt.legend(loc=\"best\")\n",
    "plt.title(\"precision vs. recall curve\")\n",
    "plt.show()"
   ]
  },
  {
   "cell_type": "markdown",
   "metadata": {},
   "source": [
    "# 分類結果"
   ]
  },
  {
   "cell_type": "code",
   "execution_count": 18,
   "metadata": {},
   "outputs": [
    {
     "name": "stdout",
     "output_type": "stream",
     "text": [
      "              precision    recall  f1-score   support\n",
      "\n",
      "           0       0.99      1.00      0.99      3900\n",
      "           1       0.99      0.98      0.99      1965\n",
      "           2       1.00      0.99      0.99      1949\n",
      "           3       0.99      0.99      0.99      1960\n",
      "           4       0.99      1.00      0.99      1943\n",
      "\n",
      "   micro avg       0.99      0.99      0.99     11717\n",
      "   macro avg       0.99      0.99      0.99     11717\n",
      "weighted avg       0.99      0.99      0.99     11717\n",
      " samples avg       0.99      0.99      0.99     11717\n",
      "\n"
     ]
    }
   ],
   "source": [
    "from sklearn.metrics import classification_report\n",
    "print(classification_report(y_test, y_pred_bool))"
   ]
  },
  {
   "cell_type": "code",
   "execution_count": 19,
   "metadata": {},
   "outputs": [
    {
     "name": "stdout",
     "output_type": "stream",
     "text": [
      "検証正解率： 0.97734183\n"
     ]
    }
   ],
   "source": [
    "print(\"検証正解率：\", history[\"val_acc\"][-1])"
   ]
  },
  {
   "cell_type": "code",
   "execution_count": 20,
   "metadata": {},
   "outputs": [
    {
     "name": "stdout",
     "output_type": "stream",
     "text": [
      "テスト正解率： 0.9924041990270547\n"
     ]
    }
   ],
   "source": [
    "from sklearn.metrics import accuracy_score\n",
    "print(\"テスト正解率：\", accuracy_score(y_test, y_pred_bool))"
   ]
  }
 ],
 "metadata": {
  "kernelspec": {
   "display_name": "Python 3",
   "language": "python",
   "name": "python3"
  },
  "language_info": {
   "codemirror_mode": {
    "name": "ipython",
    "version": 3
   },
   "file_extension": ".py",
   "mimetype": "text/x-python",
   "name": "python",
   "nbconvert_exporter": "python",
   "pygments_lexer": "ipython3",
   "version": "3.6.9"
  }
 },
 "nbformat": 4,
 "nbformat_minor": 2
}
