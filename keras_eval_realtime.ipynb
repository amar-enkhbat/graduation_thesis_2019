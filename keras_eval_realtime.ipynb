{
 "cells": [
  {
   "cell_type": "markdown",
   "metadata": {},
   "source": [
    "# モジュールをインポート"
   ]
  },
  {
   "cell_type": "code",
   "execution_count": 2,
   "metadata": {},
   "outputs": [],
   "source": [
    "import numpy as np\n",
    "import matplotlib.pyplot as plt\n",
    "import pickle\n",
    "import pandas as pd"
   ]
  },
  {
   "cell_type": "markdown",
   "metadata": {},
   "source": [
    "# 学習歴史を読み込み"
   ]
  },
  {
   "cell_type": "code",
   "execution_count": 3,
   "metadata": {},
   "outputs": [],
   "source": [
    "with open(\"./training_keras_hist_2019_11_21/train_hist\", \"rb\") as file:\n",
    "    history = pickle.load(file)"
   ]
  },
  {
   "cell_type": "code",
   "execution_count": 4,
   "metadata": {},
   "outputs": [
    {
     "data": {
      "text/plain": [
       "dict_keys(['val_acc', 'acc', 'loss', 'val_loss'])"
      ]
     },
     "execution_count": 4,
     "metadata": {},
     "output_type": "execute_result"
    }
   ],
   "source": [
    "history.keys()"
   ]
  },
  {
   "cell_type": "markdown",
   "metadata": {},
   "source": [
    "# 学習正解率を描画"
   ]
  },
  {
   "cell_type": "code",
   "execution_count": 5,
   "metadata": {},
   "outputs": [
    {
     "data": {
      "image/png": "[encoded data removed]",
      "text/plain": [
       "<Figure size 432x288 with 1 Axes>"
      ]
     },
     "metadata": {
      "needs_background": "light"
     },
     "output_type": "display_data"
    }
   ],
   "source": [
    "plt.plot(history['acc'])\n",
    "plt.plot(history['val_acc'])\n",
    "plt.title('model accuracy')\n",
    "plt.ylabel('accuracy')\n",
    "plt.xlabel('epoch')\n",
    "plt.legend(['train', 'test'], loc='upper left')\n",
    "plt.grid()\n",
    "plt.show()"
   ]
  },
  {
   "cell_type": "markdown",
   "metadata": {},
   "source": [
    "# 学習損失を描画"
   ]
  },
  {
   "cell_type": "code",
   "execution_count": 6,
   "metadata": {},
   "outputs": [
    {
     "data": {
      "image/png": "[encoded data removed]",
      "text/plain": [
       "<Figure size 432x288 with 1 Axes>"
      ]
     },
     "metadata": {
      "needs_background": "light"
     },
     "output_type": "display_data"
    }
   ],
   "source": [
    "plt.plot(history['loss'])\n",
    "plt.plot(history['val_loss'])\n",
    "plt.title('model loss')\n",
    "plt.ylabel('loss')\n",
    "plt.xlabel('epoch')\n",
    "plt.legend(['train', 'test'], loc='upper left')\n",
    "plt.show()"
   ]
  },
  {
   "cell_type": "markdown",
   "metadata": {},
   "source": [
    "# テストデータセットを読み込み"
   ]
  },
  {
   "cell_type": "code",
   "execution_count": 7,
   "metadata": {},
   "outputs": [
    {
     "name": "stdout",
     "output_type": "stream",
     "text": [
      "Dataset shape: (11717, 10, 10, 11, 1)\n",
      "Labels shape: (11717,)\n"
     ]
    }
   ],
   "source": [
    "dataset_dir = \"./preprocessed_dataset/\"\n",
    "\n",
    "with open(dataset_dir+\"1_2_shuffle_dataset_3D_win_10.pkl\", \"rb\") as fp:\n",
    "  \tdataset = pickle.load(fp)\n",
    "with open(dataset_dir+\"1_2_shuffle_labels_3D_win_10.pkl\", \"rb\") as fp:\n",
    "  \tlabels = pickle.load(fp)\n",
    "dataset = dataset.reshape(len(dataset), 10, 10, 11, 1)\n",
    "print(\"Dataset shape:\", dataset.shape)\n",
    "print(\"Labels shape:\", labels.shape)"
   ]
  },
  {
   "cell_type": "markdown",
   "metadata": {},
   "source": [
    "# ラベルエンコーディング"
   ]
  },
  {
   "cell_type": "code",
   "execution_count": 8,
   "metadata": {},
   "outputs": [
    {
     "name": "stdout",
     "output_type": "stream",
     "text": [
      "One-hot-encoded labels:\n",
      "[[1 0 0 0 0]\n",
      " [1 0 0 0 0]\n",
      " [1 0 0 0 0]\n",
      " ...\n",
      " [0 0 1 0 0]\n",
      " [0 0 1 0 0]\n",
      " [0 0 1 0 0]]\n"
     ]
    }
   ],
   "source": [
    "def one_hot_encoder(labels):\n",
    "    return np.asarray(pd.get_dummies(labels), dtype = np.int8)\n",
    "labels = one_hot_encoder(labels)\n",
    "print(\"One-hot-encoded labels:\")\n",
    "print(labels)"
   ]
  },
  {
   "cell_type": "code",
   "execution_count": 9,
   "metadata": {},
   "outputs": [
    {
     "name": "stdout",
     "output_type": "stream",
     "text": [
      "Test dataset shape: (11717, 10, 10, 11, 1)\n",
      "Test label shape: (11717, 5)\n"
     ]
    }
   ],
   "source": [
    "X_test = dataset \n",
    "y_test = labels\n",
    "\n",
    "print(\"Test dataset shape:\", X_test.shape)\n",
    "print(\"Test label shape:\", y_test.shape)"
   ]
  },
  {
   "cell_type": "markdown",
   "metadata": {},
   "source": [
    "# モデルを定義"
   ]
  },
  {
   "cell_type": "code",
   "execution_count": 10,
   "metadata": {},
   "outputs": [
    {
     "name": "stderr",
     "output_type": "stream",
     "text": [
      "/usr/local/lib/python3.6/dist-packages/tensorflow/python/framework/dtypes.py:516: FutureWarning: Passing (type, 1) or '1type' as a synonym of type is deprecated; in a future version of numpy, it will be understood as (type, (1,)) / '(1,)type'.\n",
      "  _np_qint8 = np.dtype([(\"qint8\", np.int8, 1)])\n",
      "/usr/local/lib/python3.6/dist-packages/tensorflow/python/framework/dtypes.py:517: FutureWarning: Passing (type, 1) or '1type' as a synonym of type is deprecated; in a future version of numpy, it will be understood as (type, (1,)) / '(1,)type'.\n",
      "  _np_quint8 = np.dtype([(\"quint8\", np.uint8, 1)])\n",
      "/usr/local/lib/python3.6/dist-packages/tensorflow/python/framework/dtypes.py:518: FutureWarning: Passing (type, 1) or '1type' as a synonym of type is deprecated; in a future version of numpy, it will be understood as (type, (1,)) / '(1,)type'.\n",
      "  _np_qint16 = np.dtype([(\"qint16\", np.int16, 1)])\n",
      "/usr/local/lib/python3.6/dist-packages/tensorflow/python/framework/dtypes.py:519: FutureWarning: Passing (type, 1) or '1type' as a synonym of type is deprecated; in a future version of numpy, it will be understood as (type, (1,)) / '(1,)type'.\n",
      "  _np_quint16 = np.dtype([(\"quint16\", np.uint16, 1)])\n",
      "/usr/local/lib/python3.6/dist-packages/tensorflow/python/framework/dtypes.py:520: FutureWarning: Passing (type, 1) or '1type' as a synonym of type is deprecated; in a future version of numpy, it will be understood as (type, (1,)) / '(1,)type'.\n",
      "  _np_qint32 = np.dtype([(\"qint32\", np.int32, 1)])\n",
      "/usr/local/lib/python3.6/dist-packages/tensorflow/python/framework/dtypes.py:525: FutureWarning: Passing (type, 1) or '1type' as a synonym of type is deprecated; in a future version of numpy, it will be understood as (type, (1,)) / '(1,)type'.\n",
      "  np_resource = np.dtype([(\"resource\", np.ubyte, 1)])\n",
      "/usr/local/lib/python3.6/dist-packages/tensorboard/compat/tensorflow_stub/dtypes.py:541: FutureWarning: Passing (type, 1) or '1type' as a synonym of type is deprecated; in a future version of numpy, it will be understood as (type, (1,)) / '(1,)type'.\n",
      "  _np_qint8 = np.dtype([(\"qint8\", np.int8, 1)])\n",
      "/usr/local/lib/python3.6/dist-packages/tensorboard/compat/tensorflow_stub/dtypes.py:542: FutureWarning: Passing (type, 1) or '1type' as a synonym of type is deprecated; in a future version of numpy, it will be understood as (type, (1,)) / '(1,)type'.\n",
      "  _np_quint8 = np.dtype([(\"quint8\", np.uint8, 1)])\n",
      "/usr/local/lib/python3.6/dist-packages/tensorboard/compat/tensorflow_stub/dtypes.py:543: FutureWarning: Passing (type, 1) or '1type' as a synonym of type is deprecated; in a future version of numpy, it will be understood as (type, (1,)) / '(1,)type'.\n",
      "  _np_qint16 = np.dtype([(\"qint16\", np.int16, 1)])\n",
      "/usr/local/lib/python3.6/dist-packages/tensorboard/compat/tensorflow_stub/dtypes.py:544: FutureWarning: Passing (type, 1) or '1type' as a synonym of type is deprecated; in a future version of numpy, it will be understood as (type, (1,)) / '(1,)type'.\n",
      "  _np_quint16 = np.dtype([(\"quint16\", np.uint16, 1)])\n",
      "/usr/local/lib/python3.6/dist-packages/tensorboard/compat/tensorflow_stub/dtypes.py:545: FutureWarning: Passing (type, 1) or '1type' as a synonym of type is deprecated; in a future version of numpy, it will be understood as (type, (1,)) / '(1,)type'.\n",
      "  _np_qint32 = np.dtype([(\"qint32\", np.int32, 1)])\n",
      "/usr/local/lib/python3.6/dist-packages/tensorboard/compat/tensorflow_stub/dtypes.py:550: FutureWarning: Passing (type, 1) or '1type' as a synonym of type is deprecated; in a future version of numpy, it will be understood as (type, (1,)) / '(1,)type'.\n",
      "  np_resource = np.dtype([(\"resource\", np.ubyte, 1)])\n"
     ]
    }
   ],
   "source": [
    "dropout_prob = 0.5\n",
    "n_labels = y_test.shape[1]\n",
    "training_epochs = 10\n",
    "batch_size = 300\n",
    "learning_rate = 1e-4\n",
    "\n",
    "from tensorflow.keras.models import Model\n",
    "from tensorflow.keras.layers import Dense, Activation, Dropout, Input, LSTM, Conv2D, Conv3D\n",
    "from tensorflow.keras.layers import Reshape, Flatten, Softmax\n",
    "from tensorflow.keras.optimizers import Adam\n",
    "\n",
    "def model(input_shape):\n",
    "    \"\"\"\n",
    "    Function creating the model's graph in Keras.\n",
    "    \n",
    "    Argument:\n",
    "    input_shape -- shape of the model's input data (using Keras conventions)\n",
    "\n",
    "    Returns:\n",
    "    model -- Keras model instance\n",
    "    \"\"\"\n",
    "    X_input = Input(shape = input_shape)\n",
    "\n",
    "    conv_1 = Conv3D(filters=32, kernel_size=(3, 3, 3), padding=\"same\", strides=(1, 1, 1), activation=\"elu\")(X_input)\n",
    "    conv_2 = Conv3D(filters=64, kernel_size=(3, 3, 3), padding=\"same\", strides=(1, 1, 1), activation=\"elu\")(conv_1)\n",
    "    conv_3 = Conv3D(filters=128, kernel_size=(3, 3, 3), padding=\"same\", strides=(1, 1, 1), activation=\"elu\")(conv_2)\n",
    "    shape = conv_3.get_shape().as_list()\n",
    "    \n",
    "    pool_2_flat = Reshape([shape[1], shape[2]*shape[3]*shape[4]])(conv_3)\n",
    "    fc = Dense(1024, activation=\"elu\")(pool_2_flat)\n",
    "    fc_drop = Dropout(dropout_prob)(fc)\n",
    "    \n",
    "    lstm_in = Reshape([10, 1024])(fc_drop)\n",
    "    lstm_1 = LSTM(units=1024, return_sequences=True, unit_forget_bias=True, dropout=dropout_prob)(lstm_in)\n",
    "    rnn_output = LSTM(units=1024, return_sequences=False, unit_forget_bias=True)(lstm_1)\n",
    "    \n",
    "    shape_rnn_out = rnn_output.get_shape().as_list()\n",
    "    fc_out = Dense(shape_rnn_out[1], activation=\"elu\")(rnn_output)\n",
    "    fc_drop = Dropout(dropout_prob)(fc_out)\n",
    "    y_ = Dense(n_labels)(fc_drop)\n",
    "    y_posi = Softmax()(y_)\n",
    "#     X = Argmax()(X)\n",
    "#     X = argmax()(X)\n",
    "#     X = Dense(5, activation=\"elu\")(X)\n",
    "    \n",
    "    \n",
    "    model = Model(inputs = X_input, outputs = y_posi)\n",
    "    return model"
   ]
  },
  {
   "cell_type": "code",
   "execution_count": 11,
   "metadata": {},
   "outputs": [
    {
     "name": "stdout",
     "output_type": "stream",
     "text": [
      "WARNING:tensorflow:From /usr/local/lib/python3.6/dist-packages/tensorflow/python/ops/init_ops.py:1251: calling VarianceScaling.__init__ (from tensorflow.python.ops.init_ops) with dtype is deprecated and will be removed in a future version.\n",
      "Instructions for updating:\n",
      "Call initializer instance with the dtype argument instead of passing it to the constructor\n"
     ]
    }
   ],
   "source": [
    "model = model(input_shape = (X_test.shape[1], X_test.shape[2], X_test.shape[3], X_test.shape[4]))"
   ]
  },
  {
   "cell_type": "markdown",
   "metadata": {},
   "source": [
    "# モデルの確認"
   ]
  },
  {
   "cell_type": "code",
   "execution_count": 12,
   "metadata": {},
   "outputs": [
    {
     "name": "stdout",
     "output_type": "stream",
     "text": [
      "Model: \"model\"\n",
      "_________________________________________________________________\n",
      "Layer (type)                 Output Shape              Param #   \n",
      "=================================================================\n",
      "input_1 (InputLayer)         [(None, 10, 10, 11, 1)]   0         \n",
      "_________________________________________________________________\n",
      "conv3d (Conv3D)              (None, 10, 10, 11, 32)    896       \n",
      "_________________________________________________________________\n",
      "conv3d_1 (Conv3D)            (None, 10, 10, 11, 64)    55360     \n",
      "_________________________________________________________________\n",
      "conv3d_2 (Conv3D)            (None, 10, 10, 11, 128)   221312    \n",
      "_________________________________________________________________\n",
      "reshape (Reshape)            (None, 10, 14080)         0         \n",
      "_________________________________________________________________\n",
      "dense (Dense)                (None, 10, 1024)          14418944  \n",
      "_________________________________________________________________\n",
      "dropout (Dropout)            (None, 10, 1024)          0         \n",
      "_________________________________________________________________\n",
      "reshape_1 (Reshape)          (None, 10, 1024)          0         \n",
      "_________________________________________________________________\n",
      "lstm (LSTM)                  (None, 10, 1024)          8392704   \n",
      "_________________________________________________________________\n",
      "lstm_1 (LSTM)                (None, 1024)              8392704   \n",
      "_________________________________________________________________\n",
      "dense_1 (Dense)              (None, 1024)              1049600   \n",
      "_________________________________________________________________\n",
      "dropout_1 (Dropout)          (None, 1024)              0         \n",
      "_________________________________________________________________\n",
      "dense_2 (Dense)              (None, 5)                 5125      \n",
      "_________________________________________________________________\n",
      "softmax (Softmax)            (None, 5)                 0         \n",
      "=================================================================\n",
      "Total params: 32,536,645\n",
      "Trainable params: 32,536,645\n",
      "Non-trainable params: 0\n",
      "_________________________________________________________________\n"
     ]
    }
   ],
   "source": [
    "model.summary()"
   ]
  },
  {
   "cell_type": "code",
   "execution_count": 13,
   "metadata": {},
   "outputs": [],
   "source": [
    "opt = Adam(lr=learning_rate)\n",
    "model.compile(loss=\"categorical_crossentropy\", optimizer=opt, metrics=[\"accuracy\"])"
   ]
  },
  {
   "cell_type": "markdown",
   "metadata": {},
   "source": [
    "## 学習済みモデルの重みを読み込み"
   ]
  },
  {
   "cell_type": "code",
   "execution_count": 14,
   "metadata": {},
   "outputs": [
    {
     "data": {
      "text/plain": [
       "<tensorflow.python.training.tracking.util.CheckpointLoadStatus at 0x7fe6ebca37f0>"
      ]
     },
     "execution_count": 14,
     "metadata": {},
     "output_type": "execute_result"
    }
   ],
   "source": [
    "checkpoint_path = \"training_keras_2019_11_21/cp.ckpt\"\n",
    "model.load_weights(checkpoint_path)"
   ]
  },
  {
   "cell_type": "markdown",
   "metadata": {},
   "source": [
    "# Load data stream"
   ]
  },
  {
   "cell_type": "code",
   "execution_count": 15,
   "metadata": {},
   "outputs": [],
   "source": [
    "from pylsl import StreamInlet, resolve_byprop\n",
    "from muselsl.constants import LSL_SCAN_TIMEOUT, LSL_EEG_CHUNK\n",
    "\n",
    "LSL_EEG_CHUNK = 10\n",
    "def record_stream():\n",
    "    \"\"\"\n",
    "    :return: a generator to fetch EEG data from existed stream.\n",
    "    \"\"\"\n",
    "    streams = resolve_byprop(\"type\", \"EEG\", timeout=LSL_SCAN_TIMEOUT)\n",
    "    if len(streams) == 0:\n",
    "        raise IOError(\"Can't find EEG stream.\")\n",
    "\n",
    "    inlet = StreamInlet(streams[0], max_buflen=LSL_EEG_CHUNK)\n",
    "\n",
    "    info = inlet.info()\n",
    "    description = info.desc()\n",
    "    Nchan = info.channel_count()\n",
    "\n",
    "    ch = description.child('channels').first_child()\n",
    "    ch_names = [ch.child_value(\"label\")]\n",
    "    for i in range(1, Nchan):\n",
    "        ch = ch.next_sibling()\n",
    "        ch_names.append(ch.child_value('label'))\n",
    "#     print(ch_names)\n",
    "    while True:\n",
    "        yield inlet.pull_chunk(timeout=1.0, max_samples=LSL_EEG_CHUNK)\n"
   ]
  },
  {
   "cell_type": "code",
   "execution_count": 16,
   "metadata": {},
   "outputs": [
    {
     "name": "stdout",
     "output_type": "stream",
     "text": [
      "['TP9', 'AF7', 'AF8', 'TP10', 'Right AUX']\n",
      "[[ -398.4375      -467.28515625    -8.30078125  -447.75390625]\n",
      " [ -879.39453125   999.0234375   -123.53515625   606.4453125 ]\n",
      " [  291.50390625   575.68359375   -19.53125      383.7890625 ]\n",
      " [-1000.          -851.5625        98.14453125  -662.59765625]\n",
      " [ -858.88671875  -829.58984375    37.59765625  -661.1328125 ]\n",
      " [  739.2578125    580.078125    -100.09765625   357.421875  ]\n",
      " [  576.171875     872.55859375   -58.59375      601.5625    ]\n",
      " [ -939.453125    -506.34765625    88.37890625  -518.06640625]\n",
      " [-1000.          -990.234375      62.01171875  -892.08984375]\n",
      " [   59.5703125    199.21875      -65.91796875   -15.625     ]]\n"
     ]
    }
   ],
   "source": [
    "print(\"['TP9', 'AF7', 'AF8', 'TP10', 'Right AUX']\")\n",
    "print(np.array(next(record_stream())[0])[:, 0:4])"
   ]
  },
  {
   "cell_type": "markdown",
   "metadata": {},
   "source": [
    "# Preprocessing"
   ]
  },
  {
   "cell_type": "code",
   "execution_count": 17,
   "metadata": {},
   "outputs": [],
   "source": [
    "def data_1Dto2D(data, Y=10, X=11):\n",
    "    data_2D = np.zeros([Y, X])\n",
    "    data_2D[1, 3] = data[1]\n",
    "    data_2D[1, 7] = data[2]\n",
    "    data_2D[5, 1] = data[0]\n",
    "    data_2D[5, 8] = data[3]\n",
    "# \tdata_2D[0] = ( \t   \t 0, \t   0,  \t   \t 0, \t   0,        0,        0,        0, \t   0,  \t     0, \t   0, \t \t 0) \n",
    "# \tdata_2D[1] = (\t  \t 0, \t   0,  \t   \t 0, data[1],        0,        0,        0, data[2], \t   \t 0,   \t   0, \t \t 0) \n",
    "# \tdata_2D[2] = (\t  \t 0,        0,        0,        0,        0,        0,        0,        0,        0,        0, \t \t 0) \n",
    "# \tdata_2D[3] = (\t  \t 0,        0,        0,        0,        0,        0,        0,        0,        0,        0, \t\t 0) \n",
    "# \tdata_2D[4] = (       0,        0,        0,        0,        0,        0,        0,        0,        0,        0,        0) \n",
    "# \tdata_2D[5] = (\t  \t 0, data[0],        0,        0,        0,        0,        0,        0,        0, data[3], \t\t 0) \n",
    "# \tdata_2D[6] = (\t  \t 0,        0,        0,        0,        0,        0,        0,        0,        0,        0, \t\t 0) \n",
    "# \tdata_2D[7] = (\t  \t 0, \t   0, \t \t 0,        0,        0,        0,        0,        0, \t   \t 0, \t   0, \t\t 0) \n",
    "# \tdata_2D[8] = (\t  \t 0, \t   0, \t \t 0, \t   0,        0,        0,        0, \t   0, \t   \t 0, \t   0, \t\t 0) \n",
    "# \tdata_2D[9] = (\t  \t 0, \t   0, \t \t 0, \t   0, \t     0,        0, \t\t 0, \t   0, \t   \t 0, \t   0, \t\t 0) \n",
    "    return data_2D"
   ]
  },
  {
   "cell_type": "code",
   "execution_count": 18,
   "metadata": {},
   "outputs": [
    {
     "name": "stdout",
     "output_type": "stream",
     "text": [
      "[[0. 0. 0. 0. 0. 0. 0. 0. 0. 0. 0.]\n",
      " [0. 0. 0. 0. 0. 0. 0. 0. 0. 0. 0.]\n",
      " [0. 0. 0. 0. 0. 0. 0. 0. 0. 0. 0.]\n",
      " [0. 0. 0. 0. 0. 0. 0. 0. 0. 0. 0.]\n",
      " [0. 0. 0. 0. 0. 0. 0. 0. 0. 0. 0.]\n",
      " [0. 0. 0. 0. 0. 0. 0. 0. 0. 0. 0.]\n",
      " [0. 0. 0. 0. 0. 0. 0. 0. 0. 0. 0.]\n",
      " [0. 0. 0. 0. 0. 0. 0. 0. 0. 0. 0.]\n",
      " [0. 0. 0. 0. 0. 0. 0. 0. 0. 0. 0.]\n",
      " [0. 0. 0. 0. 0. 0. 0. 0. 0. 0. 0.]]\n"
     ]
    }
   ],
   "source": [
    "buffer_2d = np.zeros((10, 10, 11))\n",
    "print(buffer_2d[0])"
   ]
  },
  {
   "cell_type": "code",
   "execution_count": 19,
   "metadata": {},
   "outputs": [],
   "source": [
    "for i in next(record_stream())[0]:\n",
    "    num = 0\n",
    "    buffer_2d[num, 1, 3] = i[1]\n",
    "    buffer_2d[num, 1, 7] = i[2]\n",
    "    buffer_2d[num, 5, 1] = i[0]\n",
    "    buffer_2d[num, 5, 9] = i[3]"
   ]
  },
  {
   "cell_type": "code",
   "execution_count": 20,
   "metadata": {},
   "outputs": [
    {
     "name": "stdout",
     "output_type": "stream",
     "text": [
      "[[   0.            0.            0.            0.            0.\n",
      "     0.            0.            0.            0.            0.\n",
      "     0.        ]\n",
      " [   0.            0.            0.          896.97265625    0.\n",
      "     0.            0.          -23.4375        0.            0.\n",
      "     0.        ]\n",
      " [   0.            0.            0.            0.            0.\n",
      "     0.            0.            0.            0.            0.\n",
      "     0.        ]\n",
      " [   0.            0.            0.            0.            0.\n",
      "     0.            0.            0.            0.            0.\n",
      "     0.        ]\n",
      " [   0.            0.            0.            0.            0.\n",
      "     0.            0.            0.            0.            0.\n",
      "     0.        ]\n",
      " [   0.         -873.046875      0.            0.            0.\n",
      "     0.            0.            0.            0.          513.671875\n",
      "     0.        ]\n",
      " [   0.            0.            0.            0.            0.\n",
      "     0.            0.            0.            0.            0.\n",
      "     0.        ]\n",
      " [   0.            0.            0.            0.            0.\n",
      "     0.            0.            0.            0.            0.\n",
      "     0.        ]\n",
      " [   0.            0.            0.            0.            0.\n",
      "     0.            0.            0.            0.            0.\n",
      "     0.        ]\n",
      " [   0.            0.            0.            0.            0.\n",
      "     0.            0.            0.            0.            0.\n",
      "     0.        ]]\n"
     ]
    }
   ],
   "source": [
    "print(buffer_2d[0])"
   ]
  },
  {
   "cell_type": "code",
   "execution_count": 21,
   "metadata": {},
   "outputs": [],
   "source": [
    "X_test = buffer_2d.reshape((1, 10, 10, 11, 1))"
   ]
  },
  {
   "cell_type": "code",
   "execution_count": 22,
   "metadata": {},
   "outputs": [
    {
     "name": "stdout",
     "output_type": "stream",
     "text": [
      "1/1 [==============================] - 1s 1s/sample\n",
      "image_open&close_both_feet\n",
      "1/1 [==============================] - 0s 32ms/sample\n",
      "image_open&close_both_feet\n",
      "1/1 [==============================] - 0s 38ms/sample\n",
      "eye_close\n",
      "1/1 [==============================] - 0s 37ms/sample\n",
      "eye_close\n",
      "1/1 [==============================] - 0s 35ms/sample\n",
      "image_open&close_both_fists\n",
      "1/1 [==============================] - 0s 36ms/sample\n",
      "eye_close\n",
      "1/1 [==============================] - 0s 38ms/sample\n",
      "image_open&close_both_feet\n",
      "1/1 [==============================] - 0s 38ms/sample\n",
      "eye_close\n",
      "1/1 [==============================] - 0s 32ms/sample\n",
      "eye_close\n",
      "1/1 [==============================] - 0s 37ms/sample\n",
      "image_open&close_left_fist\n",
      "1/1 [==============================] - 0s 30ms/sample\n",
      "eye_close\n",
      "1/1 [==============================] - 0s 39ms/sample\n",
      "image_open&close_both_feet\n",
      "1/1 [==============================] - 0s 38ms/sample\n",
      "image_open&close_both_feet\n",
      "1/1 [==============================] - 0s 34ms/sample\n",
      "eye_close\n",
      "1/1 [==============================] - 0s 34ms/sample\n",
      "image_open&close_both_fists\n",
      "1/1 [==============================] - 0s 38ms/sample\n",
      "eye_close\n",
      "1/1 [==============================] - 0s 38ms/sample\n",
      "image_open&close_both_feet\n",
      "1/1 [==============================] - 0s 38ms/sample\n",
      "eye_close\n",
      "1/1 [==============================] - 0s 38ms/sample\n",
      "eye_close\n",
      "1/1 [==============================] - 0s 37ms/sample\n",
      "eye_close\n",
      "1/1 [==============================] - 0s 37ms/sample\n",
      "eye_close\n",
      "1/1 [==============================] - 0s 33ms/sample\n",
      "eye_close\n",
      "1/1 [==============================] - 0s 37ms/sample\n",
      "image_open&close_both_feet\n",
      "1/1 [==============================] - 0s 34ms/sample\n",
      "eye_close\n",
      "1/1 [==============================] - 0s 31ms/sample\n",
      "eye_close\n",
      "1/1 [==============================] - 0s 30ms/sample\n",
      "eye_close\n",
      "1/1 [==============================] - 0s 39ms/sample\n",
      "image_open&close_both_feet\n",
      "1/1 [==============================] - 0s 37ms/sample\n",
      "eye_close\n",
      "1/1 [==============================] - 0s 33ms/sample\n",
      "image_open&close_both_feet\n",
      "1/1 [==============================] - 0s 35ms/sample\n",
      "image_open&close_both_feet\n",
      "1/1 [==============================] - 0s 37ms/sample\n",
      "image_open&close_both_fists\n",
      "1/1 [==============================] - 0s 31ms/sample\n",
      "eye_close\n",
      "1/1 [==============================] - 0s 31ms/sample\n",
      "eye_close\n",
      "1/1 [==============================] - 0s 42ms/sample\n",
      "eye_close\n",
      "1/1 [==============================] - 0s 38ms/sample\n",
      "eye_close\n",
      "1/1 [==============================] - 0s 38ms/sample\n",
      "eye_close\n",
      "1/1 [==============================] - 0s 33ms/sample\n",
      "eye_close\n",
      "1/1 [==============================] - 0s 40ms/sample\n",
      "image_open&close_both_fists\n",
      "1/1 [==============================] - 0s 37ms/sample\n",
      "eye_close\n",
      "1/1 [==============================] - 0s 32ms/sample\n",
      "eye_close\n",
      "1/1 [==============================] - 0s 38ms/sample\n",
      "image_open&close_both_fists\n",
      "1/1 [==============================] - 0s 33ms/sample\n",
      "eye_close\n",
      "1/1 [==============================] - 0s 38ms/sample\n",
      "eye_close\n",
      "1/1 [==============================] - 0s 38ms/sample\n",
      "image_open&close_both_fists\n",
      "1/1 [==============================] - 0s 39ms/sample\n",
      "image_open&close_both_fists\n",
      "1/1 [==============================] - 0s 39ms/sample\n",
      "image_open&close_left_fist\n",
      "1/1 [==============================] - 0s 38ms/sample\n",
      "image_open&close_both_feet\n",
      "1/1 [==============================] - 0s 30ms/sample\n",
      "eye_close\n",
      "1/1 [==============================] - 0s 32ms/sample\n",
      "eye_close\n",
      "1/1 [==============================] - 0s 38ms/sample\n",
      "image_open&close_both_feet\n",
      "1/1 [==============================] - 0s 42ms/sample\n",
      "eye_close\n",
      "1/1 [==============================] - 0s 30ms/sample\n",
      "eye_close\n",
      "1/1 [==============================] - 0s 38ms/sample\n",
      "image_open&close_both_feet\n",
      "1/1 [==============================] - 0s 49ms/sample\n",
      "eye_close\n",
      "1/1 [==============================] - 0s 35ms/sample\n",
      "eye_close\n",
      "1/1 [==============================] - 0s 37ms/sample\n",
      "eye_close\n",
      "1/1 [==============================] - 0s 39ms/sample\n",
      "eye_close\n",
      "1/1 [==============================] - 0s 38ms/sample\n",
      "eye_close\n",
      "1/1 [==============================] - 0s 39ms/sample\n",
      "eye_close\n",
      "1/1 [==============================] - 0s 59ms/sample\n",
      "eye_close\n",
      "1/1 [==============================] - 0s 38ms/sample\n",
      "eye_close\n",
      "1/1 [==============================] - 0s 36ms/sample\n",
      "eye_close\n",
      "1/1 [==============================] - 0s 38ms/sample\n",
      "eye_close\n",
      "1/1 [==============================] - 0s 40ms/sample\n",
      "eye_close\n",
      "1/1 [==============================] - 0s 37ms/sample\n",
      "eye_close\n",
      "1/1 [==============================] - 0s 40ms/sample\n",
      "eye_close\n",
      "1/1 [==============================] - 0s 42ms/sample\n",
      "eye_close\n",
      "1/1 [==============================] - 0s 40ms/sample\n",
      "eye_close\n",
      "1/1 [==============================] - 0s 38ms/sample\n",
      "eye_close\n",
      "1/1 [==============================] - 0s 42ms/sample\n",
      "eye_close\n",
      "1/1 [==============================] - 0s 37ms/sample\n",
      "eye_close\n",
      "1/1 [==============================] - 0s 32ms/sample\n",
      "eye_close\n",
      "1/1 [==============================] - 0s 39ms/sample\n",
      "eye_close\n",
      "1/1 [==============================] - 0s 35ms/sample\n",
      "eye_close\n",
      "1/1 [==============================] - 0s 41ms/sample\n",
      "eye_close\n",
      "1/1 [==============================] - 0s 39ms/sample\n",
      "image_open&close_both_fists\n",
      "1/1 [==============================] - 0s 37ms/sample\n",
      "image_open&close_both_fists\n",
      "1/1 [==============================] - 0s 30ms/sample\n",
      "eye_close\n",
      "1/1 [==============================] - 0s 37ms/sample\n",
      "image_open&close_both_fists\n",
      "1/1 [==============================] - 0s 39ms/sample\n",
      "eye_close\n",
      "1/1 [==============================] - 0s 37ms/sample\n",
      "eye_close\n",
      "1/1 [==============================] - 0s 38ms/sample\n",
      "image_open&close_both_fists\n",
      "1/1 [==============================] - 0s 37ms/sample\n",
      "eye_close\n",
      "1/1 [==============================] - 0s 39ms/sample\n",
      "image_open&close_both_fists\n",
      "1/1 [==============================] - 0s 37ms/sample\n",
      "image_open&close_both_fists\n",
      "1/1 [==============================] - 0s 38ms/sample\n",
      "eye_close\n",
      "1/1 [==============================] - 0s 37ms/sample\n",
      "image_open&close_both_fists\n",
      "1/1 [==============================] - 0s 39ms/sample\n",
      "eye_close\n",
      "1/1 [==============================] - 0s 38ms/sample\n",
      "image_open&close_both_fists\n",
      "1/1 [==============================] - 0s 40ms/sample\n",
      "image_open&close_both_fists\n",
      "1/1 [==============================] - 0s 33ms/sample\n",
      "image_open&close_both_feet\n",
      "1/1 [==============================] - 0s 38ms/sample\n",
      "image_open&close_both_fists\n",
      "1/1 [==============================] - 0s 32ms/sample\n",
      "image_open&close_both_fists\n",
      "1/1 [==============================] - 0s 34ms/sample\n",
      "eye_close\n",
      "1/1 [==============================] - 0s 32ms/sample\n",
      "eye_close\n",
      "1/1 [==============================] - 0s 39ms/sample\n",
      "image_open&close_both_feet\n",
      "1/1 [==============================] - 0s 30ms/sample\n",
      "image_open&close_both_fists\n",
      "1/1 [==============================] - 0s 36ms/sample\n",
      "image_open&close_both_fists\n",
      "1/1 [==============================] - 0s 38ms/sample\n",
      "image_open&close_both_fists\n",
      "1/1 [==============================] - 0s 42ms/sample\n",
      "eye_close\n",
      "1/1 [==============================] - 0s 39ms/sample\n",
      "eye_close\n",
      "1/1 [==============================] - 0s 38ms/sample\n",
      "eye_close\n",
      "1/1 [==============================] - 0s 38ms/sample\n",
      "eye_close\n",
      "1/1 [==============================] - 0s 41ms/sample\n",
      "image_open&close_both_fists\n",
      "1/1 [==============================] - 0s 37ms/sample\n",
      "eye_close\n",
      "1/1 [==============================] - 0s 39ms/sample\n",
      "eye_close\n",
      "1/1 [==============================] - 0s 40ms/sample\n",
      "image_open&close_both_fists\n",
      "1/1 [==============================] - 0s 39ms/sample\n",
      "image_open&close_both_fists\n",
      "1/1 [==============================] - 0s 31ms/sample\n",
      "eye_close\n",
      "1/1 [==============================] - 0s 39ms/sample\n",
      "eye_close\n",
      "1/1 [==============================] - 0s 33ms/sample\n",
      "eye_close\n",
      "1/1 [==============================] - 0s 37ms/sample\n",
      "eye_close\n",
      "1/1 [==============================] - 0s 38ms/sample\n",
      "eye_close\n",
      "1/1 [==============================] - 0s 40ms/sample\n",
      "image_open&close_both_fists\n",
      "1/1 [==============================] - 0s 33ms/sample\n",
      "eye_close\n",
      "1/1 [==============================] - 0s 38ms/sample\n",
      "eye_close\n",
      "1/1 [==============================] - 0s 30ms/sample\n"
     ]
    },
    {
     "name": "stdout",
     "output_type": "stream",
     "text": [
      "image_open&close_both_fists\n",
      "1/1 [==============================] - 0s 38ms/sample\n",
      "eye_close\n",
      "1/1 [==============================] - 0s 31ms/sample\n",
      "image_open&close_both_feet\n",
      "1/1 [==============================] - 0s 38ms/sample\n",
      "eye_close\n",
      "1/1 [==============================] - 0s 38ms/sample\n",
      "eye_close\n",
      "1/1 [==============================] - 0s 38ms/sample\n",
      "eye_close\n",
      "1/1 [==============================] - 0s 38ms/sample\n",
      "eye_close\n",
      "1/1 [==============================] - 0s 30ms/sample\n",
      "eye_close\n",
      "1/1 [==============================] - 0s 38ms/sample\n",
      "eye_close\n",
      "1/1 [==============================] - 0s 30ms/sample\n",
      "image_open&close_both_feet\n",
      "1/1 [==============================] - 0s 38ms/sample\n",
      "eye_close\n",
      "1/1 [==============================] - 0s 36ms/sample\n",
      "eye_close\n",
      "1/1 [==============================] - 0s 38ms/sample\n",
      "eye_close\n",
      "1/1 [==============================] - 0s 38ms/sample\n",
      "eye_close\n",
      "1/1 [==============================] - 0s 38ms/sample\n",
      "eye_close\n",
      "1/1 [==============================] - 0s 33ms/sample\n",
      "eye_close\n",
      "1/1 [==============================] - 0s 40ms/sample\n",
      "eye_close\n",
      "1/1 [==============================] - 0s 37ms/sample\n",
      "image_open&close_left_fist\n",
      "1/1 [==============================] - 0s 38ms/sample\n",
      "eye_close\n",
      "1/1 [==============================] - 0s 38ms/sample\n",
      "eye_close\n",
      "1/1 [==============================] - 0s 32ms/sample\n",
      "eye_close\n",
      "1/1 [==============================] - 0s 39ms/sample\n",
      "image_open&close_both_feet\n",
      "1/1 [==============================] - 0s 39ms/sample\n",
      "image_open&close_right_fist\n",
      "1/1 [==============================] - 0s 41ms/sample\n",
      "eye_close\n",
      "1/1 [==============================] - 0s 37ms/sample\n",
      "image_open&close_both_fists\n",
      "1/1 [==============================] - 0s 38ms/sample\n",
      "eye_close\n",
      "1/1 [==============================] - 0s 39ms/sample\n",
      "eye_close\n",
      "1/1 [==============================] - 0s 38ms/sample\n",
      "eye_close\n",
      "1/1 [==============================] - 0s 38ms/sample\n",
      "eye_close\n",
      "1/1 [==============================] - 0s 39ms/sample\n",
      "eye_close\n",
      "1/1 [==============================] - 0s 38ms/sample\n",
      "eye_close\n",
      "1/1 [==============================] - 0s 38ms/sample\n",
      "eye_close\n",
      "1/1 [==============================] - 0s 38ms/sample\n",
      "eye_close\n",
      "1/1 [==============================] - 0s 37ms/sample\n",
      "eye_close\n",
      "1/1 [==============================] - 0s 39ms/sample\n",
      "eye_close\n",
      "1/1 [==============================] - 0s 37ms/sample\n",
      "eye_close\n",
      "1/1 [==============================] - 0s 30ms/sample\n",
      "eye_close\n",
      "1/1 [==============================] - 0s 33ms/sample\n",
      "image_open&close_both_fists\n",
      "1/1 [==============================] - 0s 38ms/sample\n",
      "eye_close\n",
      "1/1 [==============================] - 0s 37ms/sample\n",
      "image_open&close_both_fists\n",
      "1/1 [==============================] - 0s 37ms/sample\n",
      "eye_close\n",
      "1/1 [==============================] - 0s 39ms/sample\n",
      "eye_close\n",
      "1/1 [==============================] - 0s 31ms/sample\n",
      "eye_close\n",
      "1/1 [==============================] - 0s 38ms/sample\n",
      "eye_close\n",
      "1/1 [==============================] - 0s 31ms/sample\n",
      "eye_close\n",
      "1/1 [==============================] - 0s 39ms/sample\n",
      "eye_close\n",
      "1/1 [==============================] - 0s 40ms/sample\n",
      "eye_close\n",
      "1/1 [==============================] - 0s 32ms/sample\n",
      "eye_close\n",
      "1/1 [==============================] - 0s 37ms/sample\n",
      "eye_close\n",
      "1/1 [==============================] - 0s 30ms/sample\n",
      "image_open&close_both_fists\n",
      "1/1 [==============================] - 0s 38ms/sample\n",
      "eye_close\n",
      "1/1 [==============================] - 0s 37ms/sample\n",
      "eye_close\n",
      "1/1 [==============================] - 0s 38ms/sample\n",
      "eye_close\n",
      "1/1 [==============================] - 0s 39ms/sample\n",
      "eye_close\n",
      "1/1 [==============================] - 0s 38ms/sample\n",
      "eye_close\n",
      "1/1 [==============================] - 0s 38ms/sample\n",
      "eye_close\n",
      "1/1 [==============================] - 0s 39ms/sample\n",
      "eye_close\n",
      "1/1 [==============================] - 0s 37ms/sample\n",
      "image_open&close_right_fist\n",
      "1/1 [==============================] - 0s 40ms/sample\n",
      "eye_close\n",
      "1/1 [==============================] - 0s 38ms/sample\n",
      "eye_close\n",
      "1/1 [==============================] - 0s 38ms/sample\n",
      "image_open&close_both_fists\n",
      "1/1 [==============================] - 0s 31ms/sample\n",
      "eye_close\n",
      "1/1 [==============================] - 0s 39ms/sample\n",
      "eye_close\n",
      "1/1 [==============================] - 0s 41ms/sample\n",
      "eye_close\n",
      "1/1 [==============================] - 0s 32ms/sample\n",
      "eye_close\n",
      "1/1 [==============================] - 0s 39ms/sample\n",
      "eye_close\n",
      "1/1 [==============================] - 0s 39ms/sample\n",
      "eye_close\n",
      "1/1 [==============================] - 0s 30ms/sample\n",
      "eye_close\n",
      "1/1 [==============================] - 0s 30ms/sample\n",
      "eye_close\n",
      "1/1 [==============================] - 0s 39ms/sample\n",
      "image_open&close_both_fists\n",
      "1/1 [==============================] - 0s 38ms/sample\n",
      "eye_close\n",
      "1/1 [==============================] - 0s 41ms/sample\n",
      "eye_close\n",
      "1/1 [==============================] - 0s 35ms/sample\n",
      "image_open&close_both_fists\n",
      "1/1 [==============================] - 0s 38ms/sample\n",
      "eye_close\n",
      "1/1 [==============================] - 0s 38ms/sample\n",
      "eye_close\n",
      "1/1 [==============================] - 0s 37ms/sample\n",
      "eye_close\n",
      "1/1 [==============================] - 0s 39ms/sample\n",
      "eye_close\n",
      "1/1 [==============================] - 0s 30ms/sample\n",
      "eye_close\n",
      "1/1 [==============================] - 0s 39ms/sample\n",
      "eye_close\n",
      "1/1 [==============================] - 0s 38ms/sample\n",
      "eye_close\n",
      "1/1 [==============================] - 0s 40ms/sample\n",
      "image_open&close_left_fist\n",
      "1/1 [==============================] - 0s 38ms/sample\n",
      "eye_close\n",
      "1/1 [==============================] - 0s 38ms/sample\n",
      "image_open&close_both_fists\n",
      "1/1 [==============================] - 0s 31ms/sample\n",
      "image_open&close_both_feet\n",
      "1/1 [==============================] - 0s 39ms/sample\n",
      "image_open&close_both_fists\n"
     ]
    },
    {
     "ename": "KeyboardInterrupt",
     "evalue": "",
     "output_type": "error",
     "traceback": [
      "\u001b[0;31m---------------------------------------------------------------------------\u001b[0m",
      "\u001b[0;31mKeyboardInterrupt\u001b[0m                         Traceback (most recent call last)",
      "\u001b[0;32m<ipython-input-22-d3e7862a10c1>\u001b[0m in \u001b[0;36m<module>\u001b[0;34m\u001b[0m\n\u001b[1;32m      9\u001b[0m         \u001b[0mbuffer_2d\u001b[0m\u001b[0;34m[\u001b[0m\u001b[0mnum\u001b[0m\u001b[0;34m,\u001b[0m \u001b[0;36m5\u001b[0m\u001b[0;34m,\u001b[0m \u001b[0;36m9\u001b[0m\u001b[0;34m]\u001b[0m \u001b[0;34m=\u001b[0m \u001b[0mi\u001b[0m\u001b[0;34m[\u001b[0m\u001b[0;36m3\u001b[0m\u001b[0;34m]\u001b[0m\u001b[0;34m\u001b[0m\u001b[0;34m\u001b[0m\u001b[0m\n\u001b[1;32m     10\u001b[0m     \u001b[0mX_test\u001b[0m \u001b[0;34m=\u001b[0m \u001b[0mbuffer_2d\u001b[0m\u001b[0;34m.\u001b[0m\u001b[0mreshape\u001b[0m\u001b[0;34m(\u001b[0m\u001b[0;34m(\u001b[0m\u001b[0;36m1\u001b[0m\u001b[0;34m,\u001b[0m \u001b[0;36m10\u001b[0m\u001b[0;34m,\u001b[0m \u001b[0;36m10\u001b[0m\u001b[0;34m,\u001b[0m \u001b[0;36m11\u001b[0m\u001b[0;34m,\u001b[0m \u001b[0;36m1\u001b[0m\u001b[0;34m)\u001b[0m\u001b[0;34m)\u001b[0m\u001b[0;34m\u001b[0m\u001b[0;34m\u001b[0m\u001b[0m\n\u001b[0;32m---> 11\u001b[0;31m     \u001b[0my_pred\u001b[0m \u001b[0;34m=\u001b[0m \u001b[0mmodel\u001b[0m\u001b[0;34m.\u001b[0m\u001b[0mpredict\u001b[0m\u001b[0;34m(\u001b[0m\u001b[0mX_test\u001b[0m\u001b[0;34m,\u001b[0m \u001b[0mbatch_size\u001b[0m\u001b[0;34m=\u001b[0m\u001b[0;36m1\u001b[0m\u001b[0;34m,\u001b[0m \u001b[0mverbose\u001b[0m\u001b[0;34m=\u001b[0m\u001b[0;36m1\u001b[0m\u001b[0;34m)\u001b[0m\u001b[0;34m\u001b[0m\u001b[0;34m\u001b[0m\u001b[0m\n\u001b[0m\u001b[1;32m     12\u001b[0m     \u001b[0my_pred_bool\u001b[0m \u001b[0;34m=\u001b[0m \u001b[0mnp\u001b[0m\u001b[0;34m.\u001b[0m\u001b[0margmax\u001b[0m\u001b[0;34m(\u001b[0m\u001b[0my_pred\u001b[0m\u001b[0;34m,\u001b[0m \u001b[0maxis\u001b[0m\u001b[0;34m=\u001b[0m\u001b[0;36m1\u001b[0m\u001b[0;34m)\u001b[0m\u001b[0;34m\u001b[0m\u001b[0;34m\u001b[0m\u001b[0m\n\u001b[1;32m     13\u001b[0m     true_labels = ['eye_close', 'image_open&close_both_feet',\n",
      "\u001b[0;32m/usr/local/lib/python3.6/dist-packages/tensorflow/python/keras/engine/training.py\u001b[0m in \u001b[0;36mpredict\u001b[0;34m(self, x, batch_size, verbose, steps, callbacks, max_queue_size, workers, use_multiprocessing)\u001b[0m\n\u001b[1;32m   1076\u001b[0m           \u001b[0mverbose\u001b[0m\u001b[0;34m=\u001b[0m\u001b[0mverbose\u001b[0m\u001b[0;34m,\u001b[0m\u001b[0;34m\u001b[0m\u001b[0;34m\u001b[0m\u001b[0m\n\u001b[1;32m   1077\u001b[0m           \u001b[0msteps\u001b[0m\u001b[0;34m=\u001b[0m\u001b[0msteps\u001b[0m\u001b[0;34m,\u001b[0m\u001b[0;34m\u001b[0m\u001b[0;34m\u001b[0m\u001b[0m\n\u001b[0;32m-> 1078\u001b[0;31m           callbacks=callbacks)\n\u001b[0m\u001b[1;32m   1079\u001b[0m \u001b[0;34m\u001b[0m\u001b[0m\n\u001b[1;32m   1080\u001b[0m   \u001b[0;32mdef\u001b[0m \u001b[0mreset_metrics\u001b[0m\u001b[0;34m(\u001b[0m\u001b[0mself\u001b[0m\u001b[0;34m)\u001b[0m\u001b[0;34m:\u001b[0m\u001b[0;34m\u001b[0m\u001b[0;34m\u001b[0m\u001b[0m\n",
      "\u001b[0;32m/usr/local/lib/python3.6/dist-packages/tensorflow/python/keras/engine/training_arrays.py\u001b[0m in \u001b[0;36mmodel_iteration\u001b[0;34m(model, inputs, targets, sample_weights, batch_size, epochs, verbose, callbacks, val_inputs, val_targets, val_sample_weights, shuffle, initial_epoch, steps_per_epoch, validation_steps, validation_freq, mode, validation_in_fit, prepared_feed_values_from_dataset, steps_name, **kwargs)\u001b[0m\n\u001b[1;32m    361\u001b[0m \u001b[0;34m\u001b[0m\u001b[0m\n\u001b[1;32m    362\u001b[0m         \u001b[0;31m# Get outputs.\u001b[0m\u001b[0;34m\u001b[0m\u001b[0;34m\u001b[0m\u001b[0;34m\u001b[0m\u001b[0m\n\u001b[0;32m--> 363\u001b[0;31m         \u001b[0mbatch_outs\u001b[0m \u001b[0;34m=\u001b[0m \u001b[0mf\u001b[0m\u001b[0;34m(\u001b[0m\u001b[0mins_batch\u001b[0m\u001b[0;34m)\u001b[0m\u001b[0;34m\u001b[0m\u001b[0;34m\u001b[0m\u001b[0m\n\u001b[0m\u001b[1;32m    364\u001b[0m         \u001b[0;32mif\u001b[0m \u001b[0;32mnot\u001b[0m \u001b[0misinstance\u001b[0m\u001b[0;34m(\u001b[0m\u001b[0mbatch_outs\u001b[0m\u001b[0;34m,\u001b[0m \u001b[0mlist\u001b[0m\u001b[0;34m)\u001b[0m\u001b[0;34m:\u001b[0m\u001b[0;34m\u001b[0m\u001b[0;34m\u001b[0m\u001b[0m\n\u001b[1;32m    365\u001b[0m           \u001b[0mbatch_outs\u001b[0m \u001b[0;34m=\u001b[0m \u001b[0;34m[\u001b[0m\u001b[0mbatch_outs\u001b[0m\u001b[0;34m]\u001b[0m\u001b[0;34m\u001b[0m\u001b[0;34m\u001b[0m\u001b[0m\n",
      "\u001b[0;32m/usr/local/lib/python3.6/dist-packages/tensorflow/python/keras/backend.py\u001b[0m in \u001b[0;36m__call__\u001b[0;34m(self, inputs)\u001b[0m\n\u001b[1;32m   3290\u001b[0m \u001b[0;34m\u001b[0m\u001b[0m\n\u001b[1;32m   3291\u001b[0m     fetched = self._callable_fn(*array_vals,\n\u001b[0;32m-> 3292\u001b[0;31m                                 run_metadata=self.run_metadata)\n\u001b[0m\u001b[1;32m   3293\u001b[0m     \u001b[0mself\u001b[0m\u001b[0;34m.\u001b[0m\u001b[0m_call_fetch_callbacks\u001b[0m\u001b[0;34m(\u001b[0m\u001b[0mfetched\u001b[0m\u001b[0;34m[\u001b[0m\u001b[0;34m-\u001b[0m\u001b[0mlen\u001b[0m\u001b[0;34m(\u001b[0m\u001b[0mself\u001b[0m\u001b[0;34m.\u001b[0m\u001b[0m_fetches\u001b[0m\u001b[0;34m)\u001b[0m\u001b[0;34m:\u001b[0m\u001b[0;34m]\u001b[0m\u001b[0;34m)\u001b[0m\u001b[0;34m\u001b[0m\u001b[0;34m\u001b[0m\u001b[0m\n\u001b[1;32m   3294\u001b[0m     output_structure = nest.pack_sequence_as(\n",
      "\u001b[0;32m/usr/local/lib/python3.6/dist-packages/tensorflow/python/client/session.py\u001b[0m in \u001b[0;36m__call__\u001b[0;34m(self, *args, **kwargs)\u001b[0m\n\u001b[1;32m   1456\u001b[0m         ret = tf_session.TF_SessionRunCallable(self._session._session,\n\u001b[1;32m   1457\u001b[0m                                                \u001b[0mself\u001b[0m\u001b[0;34m.\u001b[0m\u001b[0m_handle\u001b[0m\u001b[0;34m,\u001b[0m \u001b[0margs\u001b[0m\u001b[0;34m,\u001b[0m\u001b[0;34m\u001b[0m\u001b[0;34m\u001b[0m\u001b[0m\n\u001b[0;32m-> 1458\u001b[0;31m                                                run_metadata_ptr)\n\u001b[0m\u001b[1;32m   1459\u001b[0m         \u001b[0;32mif\u001b[0m \u001b[0mrun_metadata\u001b[0m\u001b[0;34m:\u001b[0m\u001b[0;34m\u001b[0m\u001b[0;34m\u001b[0m\u001b[0m\n\u001b[1;32m   1460\u001b[0m           \u001b[0mproto_data\u001b[0m \u001b[0;34m=\u001b[0m \u001b[0mtf_session\u001b[0m\u001b[0;34m.\u001b[0m\u001b[0mTF_GetBuffer\u001b[0m\u001b[0;34m(\u001b[0m\u001b[0mrun_metadata_ptr\u001b[0m\u001b[0;34m)\u001b[0m\u001b[0;34m\u001b[0m\u001b[0;34m\u001b[0m\u001b[0m\n",
      "\u001b[0;31mKeyboardInterrupt\u001b[0m: "
     ]
    }
   ],
   "source": [
    "for stream in record_stream():\n",
    "    buffer_2d = np.zeros((10, 10, 11))\n",
    "#     print(stream[0])\n",
    "    for i in next(record_stream())[0]:\n",
    "        num = 0\n",
    "        buffer_2d[num, 1, 3] = i[1]\n",
    "        buffer_2d[num, 1, 7] = i[2]\n",
    "        buffer_2d[num, 5, 1] = i[0]\n",
    "        buffer_2d[num, 5, 9] = i[3]\n",
    "    X_test = buffer_2d.reshape((1, 10, 10, 11, 1))\n",
    "    y_pred = model.predict(X_test, batch_size=1, verbose=1)\n",
    "    y_pred_bool = np.argmax(y_pred, axis=1)\n",
    "    true_labels = ['eye_close', 'image_open&close_both_feet',\n",
    "       'image_open&close_both_fists', 'image_open&close_left_fist',\n",
    "       'image_open&close_right_fist']\n",
    "    print(true_labels[int(y_pred_bool)])"
   ]
  },
  {
   "cell_type": "markdown",
   "metadata": {},
   "source": [
    "# テストデータを分類"
   ]
  },
  {
   "cell_type": "code",
   "execution_count": null,
   "metadata": {
    "scrolled": true
   },
   "outputs": [],
   "source": [
    "y_pred = model.predict(X_test, batch_size=1, verbose=1)\n",
    "y_pred_bool = np.argmax(y_pred, axis=1)"
   ]
  },
  {
   "cell_type": "code",
   "execution_count": null,
   "metadata": {},
   "outputs": [],
   "source": [
    "print(\"サンプリング率:\", 160)\n",
    "print(\"1秒に処理できる信号数：\", 990*10-6)"
   ]
  },
  {
   "cell_type": "code",
   "execution_count": null,
   "metadata": {},
   "outputs": [],
   "source": [
    "y_pred_bool = one_hot_encoder(y_pred_bool)\n",
    "y_pred_bool"
   ]
  },
  {
   "cell_type": "markdown",
   "metadata": {},
   "source": [
    "# 精度と正解率の曲線"
   ]
  },
  {
   "cell_type": "code",
   "execution_count": null,
   "metadata": {},
   "outputs": [],
   "source": [
    "from sklearn.metrics import precision_recall_curve, roc_curve\n",
    "from sklearn.preprocessing import label_binarize\n",
    "\n",
    "precision = dict()\n",
    "recall = dict()\n",
    "for i in range(5):\n",
    "    precision[i], recall[i], _ = precision_recall_curve(y_test[:, i],\n",
    "                                                        y_pred_bool[:, i])\n",
    "    plt.plot(recall[i], precision[i], lw=2, label='class {}'.format(i))\n",
    "\n",
    "plt.xlabel(\"recall\")\n",
    "plt.ylabel(\"precision\")\n",
    "plt.legend(loc=\"best\")\n",
    "plt.title(\"precision vs. recall curve\")\n",
    "plt.show()"
   ]
  },
  {
   "cell_type": "markdown",
   "metadata": {},
   "source": [
    "# 分類結果"
   ]
  },
  {
   "cell_type": "code",
   "execution_count": null,
   "metadata": {},
   "outputs": [],
   "source": [
    "from sklearn.metrics import classification_report\n",
    "print(classification_report(y_test, y_pred_bool))"
   ]
  },
  {
   "cell_type": "code",
   "execution_count": null,
   "metadata": {},
   "outputs": [],
   "source": [
    "print(\"検証正解率：\", history[\"val_acc\"][-1])"
   ]
  },
  {
   "cell_type": "code",
   "execution_count": null,
   "metadata": {},
   "outputs": [],
   "source": [
    "from sklearn.metrics import accuracy_score\n",
    "print(\"テスト正解率：\", accuracy_score(y_test, y_pred_bool))"
   ]
  }
 ],
 "metadata": {
  "kernelspec": {
   "display_name": "Python 3",
   "language": "python",
   "name": "python3"
  },
  "language_info": {
   "codemirror_mode": {
    "name": "ipython",
    "version": 3
   },
   "file_extension": ".py",
   "mimetype": "text/x-python",
   "name": "python",
   "nbconvert_exporter": "python",
   "pygments_lexer": "ipython3",
   "version": "3.6.9"
  }
 },
 "nbformat": 4,
 "nbformat_minor": 2
}
