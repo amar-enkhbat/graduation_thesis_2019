{
 "cells": [
  {
   "cell_type": "code",
   "execution_count": 1,
   "metadata": {},
   "outputs": [],
   "source": [
    "import numpy as np\n",
    "import matplotlib.pyplot as plt\n",
    "import pickle"
   ]
  },
  {
   "cell_type": "code",
   "execution_count": 2,
   "metadata": {},
   "outputs": [
    {
     "name": "stdout",
     "output_type": "stream",
     "text": [
      "Dataset shape: (618414, 10, 1, 4)\n",
      "Labels shape: (618414,)\n"
     ]
    }
   ],
   "source": [
    "dataset_dir = \"./dataset/preprocessed_dataset/\"\n",
    "with open(dataset_dir+\"1_108_1x4_dataset_3D_win_10_normalize_False_overlap_True.pkl\", \"rb\") as fp:\n",
    "    dataset = pickle.load(fp)\n",
    "with open(dataset_dir+\"1_108_1x4_label_3D_win_10_normalize_False_overlap_True.pkl\", \"rb\") as fp:\n",
    "    labels = pickle.load(fp)\n",
    "height = dataset.shape[2]\n",
    "width = dataset.shape[3]\n",
    "window_size = dataset.shape[1]\n",
    "print(\"Dataset shape:\", dataset.shape)\n",
    "print(\"Labels shape:\", labels.shape)"
   ]
  },
  {
   "cell_type": "code",
   "execution_count": 3,
   "metadata": {},
   "outputs": [
    {
     "name": "stdout",
     "output_type": "stream",
     "text": [
      "Regularize first block for confirmation.\n",
      "[ 34.  53.  51.  22.  27.  52.  48.  29.  36.  44.  44.  40.  55.  52.\n",
      "  37.  46.  39.  43.  15.  44.  33.  23.  -2.  51.  32.   7.   8.  38.\n",
      "  32.   7.   4.  33.   3. -12.  16.  31. -21. -35.   9.  22.]\n",
      "First block mean:\n",
      "27.25\n",
      "First block std:\n",
      "21.225868651247232\n",
      "First block after normalization:\n",
      "[ 0.31800819  1.21314234  1.11891769 -0.2473397  -0.01177808  1.16603002\n",
      "  0.97758072  0.08244657  0.41223283  0.78913143  0.78913143  0.60068213\n",
      "  1.30736699  1.16603002  0.45934516  0.88335607  0.55356981  0.7420191\n",
      " -0.57712597  0.78913143  0.27089586 -0.20022738 -1.37803548  1.11891769\n",
      "  0.22378354 -0.95402456 -0.90691224  0.50645748  0.22378354 -0.95402456\n",
      " -1.09536153  0.27089586 -1.14247386 -1.84915872 -0.53001364  0.17667121\n",
      " -2.27316963 -2.93274217 -0.85979991 -0.2473397 ]\n"
     ]
    },
    {
     "data": {
      "image/png": "[encoded data removed]",
      "text/plain": [
       "<Figure size 432x288 with 2 Axes>"
      ]
     },
     "metadata": {
      "needs_background": "light"
     },
     "output_type": "display_data"
    }
   ],
   "source": [
    "print(\"Regularize first block for confirmation.\")\n",
    "data = dataset[0].ravel()\n",
    "print(data)\n",
    "print(\"First block mean:\")\n",
    "mean = data.mean()\n",
    "print(mean)\n",
    "print(\"First block std:\")\n",
    "std = data.std()\n",
    "print(std)\n",
    "print(\"First block after normalization:\")\n",
    "data_norm = (data - mean) / std\n",
    "print(data_norm)\n",
    "fig, (ax1, ax2) = plt.subplots(1, 2)\n",
    "plt.suptitle(\"First block before and after normalization\")\n",
    "ax1.hist(data, bins=100)\n",
    "ax2.hist(data_norm, bins=100)\n",
    "plt.show()"
   ]
  },
  {
   "cell_type": "code",
   "execution_count": 4,
   "metadata": {},
   "outputs": [
    {
     "name": "stdout",
     "output_type": "stream",
     "text": [
      "Regularize first block for confirmation.\n",
      "First block after normalization:\n",
      "[[ 0.31800819]\n",
      " [ 1.21314234]\n",
      " [ 1.11891769]\n",
      " [-0.2473397 ]\n",
      " [-0.01177808]\n",
      " [ 1.16603002]\n",
      " [ 0.97758072]\n",
      " [ 0.08244657]\n",
      " [ 0.41223283]\n",
      " [ 0.78913143]\n",
      " [ 0.78913143]\n",
      " [ 0.60068213]\n",
      " [ 1.30736699]\n",
      " [ 1.16603002]\n",
      " [ 0.45934516]\n",
      " [ 0.88335607]\n",
      " [ 0.55356981]\n",
      " [ 0.7420191 ]\n",
      " [-0.57712597]\n",
      " [ 0.78913143]\n",
      " [ 0.27089586]\n",
      " [-0.20022738]\n",
      " [-1.37803548]\n",
      " [ 1.11891769]\n",
      " [ 0.22378354]\n",
      " [-0.95402456]\n",
      " [-0.90691224]\n",
      " [ 0.50645748]\n",
      " [ 0.22378354]\n",
      " [-0.95402456]\n",
      " [-1.09536153]\n",
      " [ 0.27089586]\n",
      " [-1.14247386]\n",
      " [-1.84915872]\n",
      " [-0.53001364]\n",
      " [ 0.17667121]\n",
      " [-2.27316963]\n",
      " [-2.93274217]\n",
      " [-0.85979991]\n",
      " [-0.2473397 ]]\n"
     ]
    },
    {
     "data": {
      "image/png": "[encoded data removed]",
      "text/plain": [
       "<Figure size 432x288 with 2 Axes>"
      ]
     },
     "metadata": {
      "needs_background": "light"
     },
     "output_type": "display_data"
    }
   ],
   "source": [
    "from sklearn.preprocessing import StandardScaler\n",
    "scaler = StandardScaler()\n",
    "print(\"Regularize first block for confirmation.\")\n",
    "data = dataset[0].reshape(-1, 1)\n",
    "print(\"First block after normalization:\")\n",
    "data_norm_2 = scaler.fit_transform(data)\n",
    "print(data_norm_2)\n",
    "fig, (ax1, ax2) = plt.subplots(1, 2)\n",
    "plt.suptitle(\"First block before and after normalization\")\n",
    "ax1.hist(data, bins=100)\n",
    "ax2.hist(data_norm_2, bins=100)\n",
    "plt.show()"
   ]
  },
  {
   "cell_type": "code",
   "execution_count": 5,
   "metadata": {},
   "outputs": [
    {
     "data": {
      "text/plain": [
       "0.0"
      ]
     },
     "execution_count": 5,
     "metadata": {},
     "output_type": "execute_result"
    }
   ],
   "source": [
    "(data_norm - data_norm_2).mean()"
   ]
  },
  {
   "cell_type": "code",
   "execution_count": 52,
   "metadata": {},
   "outputs": [
    {
     "name": "stdout",
     "output_type": "stream",
     "text": [
      "Dataset mean shape:\n",
      "(618414, 1, 1, 1)\n",
      "Dataset std shape:\n",
      "(618414, 1, 1, 1)\n"
     ]
    }
   ],
   "source": [
    "dataset_mean = dataset.mean(axis=(1, 2, 3)).reshape(-1, 1, 1, 1)\n",
    "print(\"Dataset mean shape:\")\n",
    "print(dataset_mean.shape)\n",
    "dataset_std = dataset.std(axis=(1, 2, 3)).reshape(-1, 1, 1, 1)\n",
    "print(\"Dataset std shape:\")\n",
    "print(dataset_std.shape)\n",
    "dataset_norm = (dataset - dataset_mean) / (dataset_std + 1e-9)\n",
    "data_norm_3 = dataset_norm[0]"
   ]
  },
  {
   "cell_type": "code",
   "execution_count": 28,
   "metadata": {},
   "outputs": [
    {
     "data": {
      "text/plain": [
       "(40, 618414)"
      ]
     },
     "execution_count": 28,
     "metadata": {},
     "output_type": "execute_result"
    }
   ],
   "source": [
    "dataset.reshape(-1, 40).transpose().shape"
   ]
  },
  {
   "cell_type": "code",
   "execution_count": 41,
   "metadata": {},
   "outputs": [],
   "source": [
    "dataset_norm_2 = scaler.fit_transform(dataset.reshape(-1, 40).transpose())\n",
    "dataset_norm_2 = dataset_norm_2.transpose().reshape(-1, 10, 1, 4)"
   ]
  },
  {
   "cell_type": "code",
   "execution_count": 44,
   "metadata": {},
   "outputs": [
    {
     "data": {
      "text/plain": [
       "(618414, 10, 1, 4)"
      ]
     },
     "execution_count": 44,
     "metadata": {},
     "output_type": "execute_result"
    }
   ],
   "source": [
    "dataset_norm_2.shape"
   ]
  },
  {
   "cell_type": "code",
   "execution_count": 45,
   "metadata": {},
   "outputs": [
    {
     "data": {
      "text/plain": [
       "(618414,)"
      ]
     },
     "execution_count": 45,
     "metadata": {},
     "output_type": "execute_result"
    }
   ],
   "source": [
    "scaler.mean_.shape"
   ]
  },
  {
   "cell_type": "code",
   "execution_count": 55,
   "metadata": {},
   "outputs": [
    {
     "data": {
      "text/plain": [
       "1.9247723261148902e-13"
      ]
     },
     "execution_count": 55,
     "metadata": {},
     "output_type": "execute_result"
    }
   ],
   "source": [
    "(dataset_norm - dataset_norm_2).sum()"
   ]
  },
  {
   "cell_type": "code",
   "execution_count": 59,
   "metadata": {},
   "outputs": [
    {
     "data": {
      "text/plain": [
       "230000000.0"
      ]
     },
     "execution_count": 59,
     "metadata": {},
     "output_type": "execute_result"
    }
   ],
   "source": [
    "0.23 / 1e-9"
   ]
  },
  {
   "cell_type": "code",
   "execution_count": null,
   "metadata": {},
   "outputs": [],
   "source": []
  }
 ],
 "metadata": {
  "kernelspec": {
   "display_name": "Python 3",
   "language": "python",
   "name": "python3"
  },
  "language_info": {
   "codemirror_mode": {
    "name": "ipython",
    "version": 3
   },
   "file_extension": ".py",
   "mimetype": "text/x-python",
   "name": "python",
   "nbconvert_exporter": "python",
   "pygments_lexer": "ipython3",
   "version": "3.6.9"
  }
 },
 "nbformat": 4,
 "nbformat_minor": 2
}
